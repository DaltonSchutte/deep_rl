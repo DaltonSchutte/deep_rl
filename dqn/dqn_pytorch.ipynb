{
 "cells": [
  {
   "cell_type": "code",
   "execution_count": 1,
   "metadata": {},
   "outputs": [],
   "source": [
    "import gym\n",
    "import numpy as np\n",
    "import random\n",
    "import statistics as stats\n",
    "import matplotlib.pyplot as plt\n",
    "from collections import namedtuple, deque\n",
    "\n",
    "import torch\n",
    "import torch.nn as nn\n",
    "import torch.nn.functional as F\n",
    "import torch.optim as optim\n",
    "\n",
    "import utils\n",
    "import networks\n",
    "import replay_memory"
   ]
  },
  {
   "cell_type": "code",
   "execution_count": 2,
   "metadata": {},
   "outputs": [],
   "source": [
    "class Agent:\n",
    "    \"\"\"\n",
    "        Agent to interact and learn from the environment\n",
    "    \"\"\"\n",
    "    def __init__(self, state_size, action_size, seed, lr=0.01):\n",
    "        \"\"\"\n",
    "            ARGS:\n",
    "            state_size(int):= dimension of each state\n",
    "            action_size(int):= number of valid actions\n",
    "            seed(int):= random seed\n",
    "            lr(float):= learning rate\n",
    "        \"\"\"\n",
    "        self.state_size = state_size\n",
    "        self.action_size = action_size\n",
    "        self.seed = random.seed(seed)\n",
    "        self.lr = lr\n",
    "        \n",
    "        #Instantiate the Policy and Target Networks\n",
    "        self.online_net = networks.QNetwork(self.state_size, self.action_size, seed=seed)\n",
    "        self.target_net = networks.QNetwork(self.state_size, self.action_size, seed=seed)\n",
    "        self.optimizer = optim.Adam(self.online_net.parameters(),\n",
    "                                       lr=self.lr)\n",
    "        \n",
    "        #Initialize Replay Memory and time steps\n",
    "        self.replay_mem = replay_memory.ReplayBuffer(action_size, BUFFER_SIZE, BATCH_SIZE, self.seed)\n",
    "        self.t_step = 0\n",
    "        \n",
    "    def step(self, state, action, reward, next_state, done):\n",
    "        #Add to Experience Replay Memory\n",
    "        self.replay_mem.add(state, action, reward, next_state, done)\n",
    "        \n",
    "        self.t_step = (self.t_step+1) % UPDATE_FREQ\n",
    "        \n",
    "        #Sample from ERM if enough samples\n",
    "        if self.t_step == 0:\n",
    "            if len(self.replay_mem) > BATCH_SIZE:\n",
    "                experiences = self.replay_mem.sample()\n",
    "                self.learn(experiences, GAMMA)\n",
    "                \n",
    "    def act(self, state, epsilon=0.):\n",
    "        \"\"\"\n",
    "            Chooses an action based on the given state\n",
    "        \"\"\"\n",
    "        state = torch.from_numpy(state).float().unsqueeze(0)\n",
    "        self.online_net.eval()\n",
    "        with torch.no_grad():\n",
    "            action_values = self.online_net(state)\n",
    "        self.online_net.train()\n",
    "        \n",
    "        #Epsilon greedy selection\n",
    "        if random.random() > eps:\n",
    "            return np.argmax(action_values.cpu().data.numpy())\n",
    "        else:\n",
    "            return random.choice(np.arange(self.action_size))\n",
    "        \n",
    "    def learn(self, experiences, gamma):\n",
    "        states, actions, rewards, next_states, dones = experiences\n",
    "        \n",
    "        #Get max predicted Q values for subsequent states from the target network\n",
    "        Q_targets_next = self.target_net(next_states).detach().max(1)[0].unsqueeze(1)\n",
    "        #Compute Q targets for the current states\n",
    "        Q_targets = rewards + (gamma * Q_targets_next * (1-dones))\n",
    "        \n",
    "        #Get expected Q values from policy network\n",
    "        Q_expected = self.online_net(states).gather(1, actions)\n",
    "        \n",
    "        #Compute and minimize loss\n",
    "        loss = F.mse_loss(Q_expected, Q_targets)\n",
    "        self.optimizer.zero_grad()\n",
    "        loss.backward()\n",
    "        self.optimizer.step()\n",
    "        \n",
    "        #Update target network using policy network parameters\n",
    "        self.soft_update(self.online_net, self.target_net, TAU)\n",
    "        \n",
    "    def soft_update(self, online_network, target_network, tau):\n",
    "        \"\"\"\n",
    "            Soft update the target network params using policy network params according to:\n",
    "            param_target = tau*param_local + (1 - tau)*param_target\n",
    "            \n",
    "            ARGS:\n",
    "            policy_network(PyTorch Network):= network params will be copied FROM\n",
    "            target_network(PyTorch Network):= network params will be copied TO\n",
    "            tau(float):= interpolation factor\n",
    "        \"\"\"\n",
    "        for target_param, online_param in zip(target_network.parameters(),\n",
    "                                              online_network.parameters()):\n",
    "            target_param.data.copy_(tau*online_param.data + (1-tau)*target_param.data)"
   ]
  },
  {
   "cell_type": "code",
   "execution_count": 3,
   "metadata": {},
   "outputs": [
    {
     "data": {
      "text/plain": [
       "[314]"
      ]
     },
     "execution_count": 3,
     "metadata": {},
     "output_type": "execute_result"
    }
   ],
   "source": [
    "env = gym.make('CartPole-v0')\n",
    "env.seed(314)"
   ]
  },
  {
   "cell_type": "code",
   "execution_count": 4,
   "metadata": {},
   "outputs": [],
   "source": [
    "#Hyperparameters\n",
    "BUFFER_SIZE = 10000\n",
    "BATCH_SIZE = 64\n",
    "GAMMA = 0.99\n",
    "TAU = 0.001\n",
    "LR = 0.0005\n",
    "UPDATE_FREQ = 4\n",
    "EPSILON = 1.0\n",
    "EPS_MIN = 0.1\n",
    "\n",
    "WINDOW = 100"
   ]
  },
  {
   "cell_type": "code",
   "execution_count": 5,
   "metadata": {},
   "outputs": [],
   "source": [
    "#Instantiate an agent\n",
    "agent = Agent(state_size=env.observation_space.shape[0],\n",
    "              action_size = env.action_space.n,\n",
    "              seed=314,\n",
    "              lr=LR)"
   ]
  },
  {
   "cell_type": "code",
   "execution_count": 6,
   "metadata": {},
   "outputs": [
    {
     "name": "stdout",
     "output_type": "stream",
     "text": [
      "Episode: 100 \tAverage Reward of Prev 100 Episodes: 19.220 \t Epsilon: 0.645878\n",
      "Episode: 200 \tAverage Reward of Prev 100 Episodes: 51.820 \t Epsilon: 0.431091\n",
      "Episode: 300 \tAverage Reward of Prev 100 Episodes: 125.620 \t Epsilon: 0.300817\n",
      "CartPole Solved  397 episodes!\n",
      "Average reward for last 100 episodes:  195.0\n",
      "Total steps:  39055\n"
     ]
    },
    {
     "data": {
      "image/png": "[encoded data removed]",
      "text/plain": [
       "<Figure size 432x288 with 1 Axes>"
      ]
     },
     "metadata": {
      "needs_background": "light"
     },
     "output_type": "display_data"
    },
    {
     "data": {
      "image/png": "[encoded data removed]",
      "text/plain": [
       "<Figure size 432x288 with 1 Axes>"
      ]
     },
     "metadata": {
      "needs_background": "light"
     },
     "output_type": "display_data"
    }
   ],
   "source": [
    "#Training loop\n",
    "episodes = 2000\n",
    "total_R = []\n",
    "eps = EPSILON\n",
    "max_t = 200 #Max number of iterations, gym caps this env at 200\n",
    "total_iters = 0\n",
    "\n",
    "for i_ep in range(1, episodes+1):\n",
    "    state = env.reset()\n",
    "    done = False\n",
    "    total_r = 0\n",
    "    t = 0\n",
    "    \n",
    "    while not done and t < max_t:\n",
    "        action = agent.act(state, eps)\n",
    "        next_state, reward, done, _ = env.step(action)\n",
    "        \n",
    "        if done:\n",
    "            reward = -200\n",
    "        \n",
    "        agent.step(state, action, reward, next_state, done)\n",
    "        state = next_state\n",
    "\n",
    "        if reward == 1:\n",
    "            total_r += reward\n",
    "        \n",
    "        t += 1\n",
    "        \n",
    "        if done:\n",
    "            total_iters += t\n",
    "        \n",
    "    total_R.append(total_r)\n",
    "    eps = EPS_MIN + (1-EPS_MIN)*np.exp(-0.005*i_ep)\n",
    "    \n",
    "    if i_ep % 100 == 0:\n",
    "        print('Episode: {} \\tAverage Reward of Prev 100 Episodes: {:.3f} \\t Epsilon: {:.6f}'.format(i_ep,\n",
    "                                                           stats.mean(total_R[-100:]),\n",
    "                                                           eps))\n",
    "    \n",
    "    #Stop if solved (solved is obtaining an average above 195.0 across 100 successive episodes)\n",
    "    if len(total_R) >= 100:\n",
    "        if stats.mean(total_R[-100:]) >= 195.0:\n",
    "            print('CartPole Solved ', i_ep, 'episodes!')\n",
    "            break\n",
    "\n",
    "print('Average reward for last 100 episodes: ', stats.mean(total_R[-100:]))\n",
    "print('Total steps: ', total_iters)\n",
    "\n",
    "plt.plot(total_R)\n",
    "plt.title('Rewards')\n",
    "plt.show()\n",
    "\n",
    "utils.plot_running_avg(total_R, WINDOW)"
   ]
  },
  {
   "cell_type": "code",
   "execution_count": 7,
   "metadata": {},
   "outputs": [],
   "source": [
    "#Save the state_dict of the online model\n",
    "torch.save(agent.online_net.state_dict(), 'trained_models/dqn.pth')"
   ]
  },
  {
   "cell_type": "code",
   "execution_count": 8,
   "metadata": {},
   "outputs": [],
   "source": [
    "#Play 4 episodes\n",
    "utils.show_off(agent, 'trained_models/dqn.pth', env, 4)"
   ]
  }
 ],
 "metadata": {
  "kernelspec": {
   "display_name": "Python 3",
   "language": "python",
   "name": "python3"
  },
  "language_info": {
   "codemirror_mode": {
    "name": "ipython",
    "version": 3
   },
   "file_extension": ".py",
   "mimetype": "text/x-python",
   "name": "python",
   "nbconvert_exporter": "python",
   "pygments_lexer": "ipython3",
   "version": "3.7.0"
  }
 },
 "nbformat": 4,
 "nbformat_minor": 2
}
