{
 "cells": [
  {
   "cell_type": "code",
   "execution_count": 1,
   "metadata": {},
   "outputs": [
    {
     "name": "stdout",
     "output_type": "stream",
     "text": [
      "\u001b[31mtensorflow 1.7.1 has requirement numpy>=1.13.3, but you'll have numpy 1.12.1 which is incompatible.\u001b[0m\r\n",
      "\u001b[31mipython 6.5.0 has requirement prompt-toolkit<2.0.0,>=1.0.15, but you'll have prompt-toolkit 3.0.5 which is incompatible.\u001b[0m\r\n"
     ]
    }
   ],
   "source": [
    "!pip -q install ./python"
   ]
  },
  {
   "cell_type": "code",
   "execution_count": 2,
   "metadata": {},
   "outputs": [],
   "source": [
    "import math\n",
    "import random\n",
    "from collections import OrderedDict, deque, namedtuple\n",
    "\n",
    "import numpy as np\n",
    "import matplotlib.pyplot as plt\n",
    "\n",
    "import torch\n",
    "import torch.nn as nn\n",
    "import torch.nn.functional as F\n",
    "import torch.optim as optim\n",
    "\n",
    "from unityagents import UnityEnvironment"
   ]
  },
  {
   "cell_type": "code",
   "execution_count": 3,
   "metadata": {},
   "outputs": [
    {
     "name": "stderr",
     "output_type": "stream",
     "text": [
      "INFO:unityagents:\n",
      "'Academy' started successfully!\n",
      "Unity Academy name: Academy\n",
      "        Number of Brains: 1\n",
      "        Number of External Brains : 1\n",
      "        Lesson number : 0\n",
      "        Reset Parameters :\n",
      "\t\t\n",
      "Unity brain name: BananaBrain\n",
      "        Number of Visual Observations (per agent): 0\n",
      "        Vector Observation space type: continuous\n",
      "        Vector Observation space size (per agent): 37\n",
      "        Number of stacked Vector Observation: 1\n",
      "        Vector Action space type: discrete\n",
      "        Vector Action space size (per agent): 4\n",
      "        Vector Action descriptions: , , , \n"
     ]
    }
   ],
   "source": [
    "env = UnityEnvironment(file_name=\"/data/Banana_Linux_NoVis/Banana.x86_64\")"
   ]
  },
  {
   "cell_type": "code",
   "execution_count": 4,
   "metadata": {},
   "outputs": [],
   "source": [
    "brain_name = env.brain_names[0]\n",
    "brain = env.brains[brain_name]"
   ]
  },
  {
   "cell_type": "code",
   "execution_count": 5,
   "metadata": {},
   "outputs": [
    {
     "data": {
      "text/plain": [
       "('cpu', 1)"
      ]
     },
     "execution_count": 5,
     "metadata": {},
     "output_type": "execute_result"
    }
   ],
   "source": [
    "SEED = 1\n",
    "random.seed(SEED)\n",
    "DEVICE = \"cuda\" if torch.cuda.is_available() else \"cpu\"\n",
    "DEVICE, SEED"
   ]
  },
  {
   "cell_type": "code",
   "execution_count": 6,
   "metadata": {},
   "outputs": [
    {
     "name": "stdout",
     "output_type": "stream",
     "text": [
      "Number of agents: 1\n",
      "Number of actions: 4\n",
      "States look like: [ 1.          0.          0.          0.          0.84408134  0.          0.\n",
      "  1.          0.          0.0748472   0.          1.          0.          0.\n",
      "  0.25755     1.          0.          0.          0.          0.74177343\n",
      "  0.          1.          0.          0.          0.25854847  0.          0.\n",
      "  1.          0.          0.09355672  0.          1.          0.          0.\n",
      "  0.31969345  0.          0.        ]\n",
      "States have length: 37\n"
     ]
    }
   ],
   "source": [
    "# reset the environment\n",
    "env_info = env.reset(train_mode=True)[brain_name]\n",
    "\n",
    "# number of agents in the environment\n",
    "print('Number of agents:', len(env_info.agents))\n",
    "\n",
    "# number of actions\n",
    "action_size = brain.vector_action_space_size\n",
    "print('Number of actions:', action_size)\n",
    "\n",
    "# examine the state space \n",
    "state = env_info.vector_observations[0]\n",
    "print('States look like:', state)\n",
    "state_size = len(state)\n",
    "print('States have length:', state_size)"
   ]
  },
  {
   "cell_type": "code",
   "execution_count": 7,
   "metadata": {},
   "outputs": [],
   "source": [
    "from collections import OrderedDict\n",
    "\n",
    "import torch\n",
    "import torch.nn as nn\n",
    "import torch.nn.functional as F\n",
    "\n",
    "class QNetwork(nn.Module):\n",
    "    def __init__(self, state_dim, action_dim, dueling, seed):\n",
    "        super().__init__()\n",
    "        self.dueling = dueling\n",
    "        \n",
    "        self.fc1 = nn.Linear(state_dim, 64)\n",
    "        self.fc2 = nn.Linear(64, 32)\n",
    "        \n",
    "        if dueling:\n",
    "            self.adv_in = nn.Linear(32, 32)\n",
    "            self.adv_out = nn.Linear(32, action_dim)\n",
    "            self.val_in = nn.Linear(32, 32)\n",
    "            self.val_out = nn.Linear(32, 1)\n",
    "        else:\n",
    "            self.fc_out = nn.Linear(32, action_dim)\n",
    "        \n",
    "    def forward(self, state):\n",
    "        x = F.relu(self.fc1(state))\n",
    "        x = F.relu(self.fc2(x))\n",
    "        \n",
    "        if self.dueling:\n",
    "            adv = F.relu(self.adv_in(x))\n",
    "            adv = self.adv_out(adv)\n",
    "            val = F.relu(self.val_in(x))\n",
    "            val = self.val_out(val)\n",
    "            #Using the mean advantage value was found \n",
    "            #to stablize optimization in the paper\n",
    "            mean_adv = adv.mean()\n",
    "\n",
    "            q = val + adv - mean_adv\n",
    "\n",
    "            return q\n",
    "        else:\n",
    "            out = self.fc_out(x)\n",
    "            return out\n",
    "    "
   ]
  },
  {
   "cell_type": "code",
   "execution_count": 8,
   "metadata": {},
   "outputs": [],
   "source": [
    "from copy import deepcopy\n",
    "\n",
    "class ExpReplay(object):\n",
    "    ###           Experience Replay object          ###\n",
    "    ### Code is largely taken from the DRLND Github ###\n",
    "    def __init__(self, capacity, action_size, batch_size, seed):\n",
    "        \"\"\"\n",
    "        Creates an instance of the memory with capcity\n",
    "            ARGS:\n",
    "                capacity(int):= max number of experience \n",
    "                    tuples to store in memory\n",
    "        \"\"\"\n",
    "        self.n = capacity\n",
    "        self.memory = deque(maxlen=capacity)\n",
    "        self.action_size = action_size\n",
    "        self.batch_size = batch_size\n",
    "        self.experience = namedtuple(\"Experience\", field_names=[\"state\", \n",
    "                                                                \"action\", \n",
    "                                                                \"reward\", \n",
    "                                                                \"next_state\", \n",
    "                                                                \"done\"]\n",
    "                                    )\n",
    "        self.seed = random.seed(seed)\n",
    "        \n",
    "    def sample(self):\n",
    "        experiences = random.sample(self.memory, k=self.batch_size)\n",
    "\n",
    "        states = torch.from_numpy(np.vstack([e.state for e in experiences if e is not None])).float().to(DEVICE)\n",
    "        actions = torch.from_numpy(np.vstack([e.action for e in experiences if e is not None])).long().to(DEVICE)\n",
    "        rewards = torch.from_numpy(np.vstack([e.reward for e in experiences if e is not None])).float().to(DEVICE)\n",
    "        next_states = torch.from_numpy(np.vstack([e.next_state for e in experiences if e is not None])).float().to(DEVICE)\n",
    "        dones = torch.from_numpy(np.vstack([e.done for e in experiences if e is not None]).astype(np.uint8)).float().to(DEVICE)\n",
    "  \n",
    "        return (states, actions, rewards, next_states, dones)\n",
    "    \n",
    "    def add_experience(self, state, action, reward, next_state, done):\n",
    "        exp = self.experience(state, action, reward, next_state, done)\n",
    "        self.memory.append(exp)\n",
    "    \n",
    "    def __len__(self):\n",
    "        return len(self.memory)\n",
    "\n",
    "    \n",
    "class Agent(object):\n",
    "    ### Object to interact with the environment ###\n",
    "    def __init__(self, batch_size, state_size, action_size, \n",
    "                 dueling,\n",
    "                 lr, gamma, tau,\n",
    "                 update_freq, seed):\n",
    "        \"\"\"\n",
    "        Initializes an agent with Q-Networks to use Dueling and Double Deep\n",
    "        Q-Learning\n",
    "        \"\"\"\n",
    "        self.batch_size = batch_size\n",
    "        self.state_size = state_size\n",
    "        self.action_size = action_size\n",
    "        \n",
    "        self.lr = lr\n",
    "        self.gamma = gamma # Discount factor\n",
    "        self.tau = tau # Interpolation factor for updates\n",
    "        self.update_freq = update_freq\n",
    "        self.seed = seed\n",
    "        \n",
    "        self.q_online = QNetwork(state_size, action_size, dueling, seed).to(DEVICE)\n",
    "        self.q_target = QNetwork(state_size, action_size, dueling, seed).to(DEVICE)\n",
    "        \n",
    "        self.optimizer = optim.Adam(self.q_online.parameters(), lr=lr)\n",
    "        \n",
    "        self.memory = ExpReplay(10000, action_size, batch_size, seed)\n",
    "        self.t = 0 \n",
    "        \n",
    "    def act(self, state, epsilon):\n",
    "        \"\"\"\n",
    "        Chooses an action according to the epsilon-greedy policy\n",
    "        \"\"\"\n",
    "        state = torch.from_numpy(state).float().unsqueeze(0).to(DEVICE)\n",
    "        self.q_online.eval()\n",
    "        with torch.no_grad():\n",
    "            act_values = self.q_online(state)\n",
    "        self.q_online.train()\n",
    "        \n",
    "        if random.random() > epsilon:\n",
    "            return np.argmax(act_values.cpu().data.numpy())\n",
    "        else:\n",
    "            return random.choice(np.arange(self.action_size))\n",
    "        \n",
    "    \n",
    "    def step(self, state, action, reward, next_state, done):\n",
    "        \"\"\"\n",
    "        Add an experience to the memory and, if applicable, make a\n",
    "        learning update\n",
    "        \"\"\"\n",
    "        self.memory.add_experience(state, action, reward, next_state, done)\n",
    "        \n",
    "        self.t = (self.t + 1) % self.update_freq\n",
    "        \n",
    "        #Sample from ERM if enough samples\n",
    "        if self.t == 0:\n",
    "            if len(self.memory) > self.batch_size:\n",
    "                experiences = self.memory.sample()\n",
    "                self.learn(experiences)\n",
    " \n",
    "    def learn(self, experiences):\n",
    "        states, actions, rewards, next_states, dones = experiences\n",
    "        \n",
    "        a_max = torch.argmax(self.q_online(next_states), 1).unsqueeze(1)\n",
    "        Q_targets = rewards + (self.gamma * (1-dones) * self.q_target(next_states).gather(1, a_max))\n",
    "        Q_expected = self.q_online(states).gather(1, actions)\n",
    "        \n",
    "        loss = F.mse_loss(Q_expected, Q_targets)\n",
    "        self.optimizer.zero_grad()\n",
    "        loss.backward()\n",
    "        self.optimizer.step()\n",
    "        \n",
    "        self.soft_update(self.q_target, self.q_online)\n",
    "    \n",
    "    def soft_update(self, target_net, online_net):\n",
    "        for target_param, online_param in zip(target_net.parameters(),\n",
    "                                              online_net.parameters()\n",
    "                                             ):\n",
    "            target_param.data.copy_(self.tau * online_param.data + (1.0-self.tau)*target_param.data)\n",
    "    "
   ]
  },
  {
   "cell_type": "code",
   "execution_count": 9,
   "metadata": {},
   "outputs": [],
   "source": [
    "def train(agent, env, n_episodes, max_t):\n",
    "    \"\"\"\n",
    "    Trains the DDPG agent in the Unity environment\n",
    "        ARGS:\n",
    "            agent:= object that will interact with the environment\n",
    "            env:= Unity environment object\n",
    "            n_episodes(int):= number of episodes to train for\n",
    "            max_t(int):= maximum number of timesteps the agent can interact\n",
    "                with the environment\n",
    "        RETURN:\n",
    "            list of scores for each episode\n",
    "    \"\"\"\n",
    "    scores = []\n",
    "    scores_window = deque(maxlen=100)\n",
    "    \n",
    "    for e in range(n_episodes):\n",
    "        env_info = env.reset(train_mode=True)[brain_name]\n",
    "        state = env_info.vector_observations[0]\n",
    "        score = 0\n",
    "        \n",
    "        for t in range(max_t):\n",
    "            #Agent acts and env steps\n",
    "            action = agent.act(state)\n",
    "            env_info = env.step(action)[brain_name]\n",
    "            \n",
    "            #Collect info from env\n",
    "            next_state = env_info.vector_observations[0]\n",
    "            reward = env_info.rewards[0]\n",
    "            done = env_info.local_done[0]\n",
    "            agent.step(state, action, reward, next_state, done)\n",
    "            \n",
    "            #Updates made to variables\n",
    "            score += reward\n",
    "            state = next_state\n",
    "            \n",
    "            if done:\n",
    "                break\n",
    "                \n",
    "        scores_window.append(score)\n",
    "        scores.append(score)\n",
    "        \n",
    "        if (np.array(scores_window).mean() >= 30.0) and (len(scores) >= 100):\n",
    "            print(f\"Agent solved environment in {e+1} episodes!\")\n",
    "            print(f\"\\tScore: {round(np.mean(scores_window), 4)}\")\n",
    "            break\n",
    "            \n",
    "        if ((e+1) % 50) == 0:\n",
    "            print(f\"Episode {e+1}:\\tAverage Reward: {round(np.mean(scores_window),4)}\")\n",
    "            \n",
    "        if ((e+1) == 300) and (np.mean(scores_window) < 1.0):\n",
    "            print(\"Unsatisfactory improvement, ending training...\")\n",
    "            break\n",
    "            \n",
    "    return scores"
   ]
  },
  {
   "cell_type": "code",
   "execution_count": 10,
   "metadata": {},
   "outputs": [],
   "source": [
    "agent = Agent(batch_size=64, \n",
    "              state_size=state_size, \n",
    "              action_size=action_size, \n",
    "              dueling=True,\n",
    "              lr=0.0005,\n",
    "              gamma=0.99, \n",
    "              tau=(1.0/2500), #*\n",
    "              update_freq=4,  \n",
    "              seed=SEED)\n",
    "#* updates occur every 4 steps and the target network updates\n",
    "#every 10,000 steps which means that the full update occurs over\n",
    "#2,500 updates"
   ]
  },
  {
   "cell_type": "code",
   "execution_count": 21,
   "metadata": {
    "scrolled": true
   },
   "outputs": [
    {
     "name": "stdout",
     "output_type": "stream",
     "text": [
      "Episode 50:\tAverage Reward: -0.04\n",
      "Episode 100:\tAverage Reward: 0.23\n",
      "Episode 150:\tAverage Reward: 1.29\n",
      "Episode 200:\tAverage Reward: 2.87\n",
      "Episode 250:\tAverage Reward: 4.2\n",
      "Episode 300:\tAverage Reward: 4.51\n",
      "Episode 350:\tAverage Reward: 4.18\n",
      "Episode 400:\tAverage Reward: 4.98\n",
      "Episode 450:\tAverage Reward: 6.65\n",
      "Episode 500:\tAverage Reward: 8.06\n",
      "Episode 550:\tAverage Reward: 9.59\n",
      "Episode 600:\tAverage Reward: 10.23\n",
      "Episode 650:\tAverage Reward: 11.0\n",
      "Episode 700:\tAverage Reward: 12.57\n",
      "Agent solved Banana Collector in 711 episodes!\n",
      "\tScore: 13.02\n"
     ]
    }
   ],
   "source": [
    "scores = train(agent=agent, \n",
    "               env=env, \n",
    "               n_episodes=1800, \n",
    "               max_t=1000, \n",
    "               epsilon_min=0.05\n",
    "              )"
   ]
  },
  {
   "cell_type": "code",
   "execution_count": 22,
   "metadata": {},
   "outputs": [],
   "source": [
    "def plot_running_avg(scores, window=100):\n",
    "    \"\"\"\n",
    "    Plots the running average of desired window size\n",
    "        ARGS:\n",
    "            scores(list):= list of episodic rewards\n",
    "            window(int):= size of the window the average will be computed over\n",
    "    \"\"\"\n",
    "    scores = np.array(scores)\n",
    "    N = len(scores)\n",
    "    running_avg = np.empty(N)\n",
    "    \n",
    "    for t in range(N):\n",
    "        running_avg[t] = scores[max(0, t-window):t+1].mean()\n",
    "    \n",
    "    plt.plot(running_avg)\n",
    "    plt.title(\"Running Average ({}) Score\".format(window))\n",
    "    plt.show()"
   ]
  },
  {
   "cell_type": "code",
   "execution_count": 24,
   "metadata": {},
   "outputs": [
    {
     "data": {
      "image/png": "[encoded data removed]",
      "text/plain": [
       "<matplotlib.figure.Figure at 0x7f0b50b1ccf8>"
      ]
     },
     "metadata": {
      "needs_background": "light"
     },
     "output_type": "display_data"
    }
   ],
   "source": [
    "ax = np.arange(0,711)\n",
    "thresh = np.array([13 for i in range(711)])\n",
    "plt.plot(ax, scores, ax, thresh)\n",
    "plt.savefig(\"dueling_dqn_scores.pdf\", dpi=1600)\n",
    "plt.show()"
   ]
  },
  {
   "cell_type": "code",
   "execution_count": 25,
   "metadata": {},
   "outputs": [
    {
     "data": {
      "image/png": "[encoded data removed]",
      "text/plain": [
       "<matplotlib.figure.Figure at 0x7f0b50b5f4a8>"
      ]
     },
     "metadata": {
      "needs_background": "light"
     },
     "output_type": "display_data"
    }
   ],
   "source": [
    "plot_running_avg(scores)"
   ]
  },
  {
   "cell_type": "code",
   "execution_count": 26,
   "metadata": {},
   "outputs": [],
   "source": [
    "env.close()"
   ]
  },
  {
   "cell_type": "code",
   "execution_count": 27,
   "metadata": {},
   "outputs": [],
   "source": [
    "torch.save(agent.q_online.state_dict(), 'trained_model.pth')"
   ]
  },
  {
   "cell_type": "code",
   "execution_count": null,
   "metadata": {},
   "outputs": [],
   "source": []
  }
 ],
 "metadata": {
  "kernelspec": {
   "display_name": "Python 3",
   "language": "python",
   "name": "python3"
  },
  "language_info": {
   "codemirror_mode": {
    "name": "ipython",
    "version": 3
   },
   "file_extension": ".py",
   "mimetype": "text/x-python",
   "name": "python",
   "nbconvert_exporter": "python",
   "pygments_lexer": "ipython3",
   "version": "3.7.4"
  }
 },
 "nbformat": 4,
 "nbformat_minor": 2
}
