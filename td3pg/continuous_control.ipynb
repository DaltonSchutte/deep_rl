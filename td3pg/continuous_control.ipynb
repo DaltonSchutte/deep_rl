{
 "cells": [
  {
   "cell_type": "code",
   "execution_count": 1,
   "metadata": {},
   "outputs": [
    {
     "name": "stdout",
     "output_type": "stream",
     "text": [
      "\u001b[31mtensorflow 1.7.1 has requirement numpy>=1.13.3, but you'll have numpy 1.12.1 which is incompatible.\u001b[0m\r\n",
      "\u001b[31mipython 6.5.0 has requirement prompt-toolkit<2.0.0,>=1.0.15, but you'll have prompt-toolkit 3.0.5 which is incompatible.\u001b[0m\r\n"
     ]
    }
   ],
   "source": [
    "!pip -q install ../python"
   ]
  },
  {
   "cell_type": "code",
   "execution_count": 2,
   "metadata": {},
   "outputs": [
    {
     "name": "stderr",
     "output_type": "stream",
     "text": [
      "INFO:unityagents:\n",
      "'Academy' started successfully!\n",
      "Unity Academy name: Academy\n",
      "        Number of Brains: 1\n",
      "        Number of External Brains : 1\n",
      "        Lesson number : 0\n",
      "        Reset Parameters :\n",
      "\t\tgoal_speed -> 1.0\n",
      "\t\tgoal_size -> 5.0\n",
      "Unity brain name: ReacherBrain\n",
      "        Number of Visual Observations (per agent): 0\n",
      "        Vector Observation space type: continuous\n",
      "        Vector Observation space size (per agent): 33\n",
      "        Number of stacked Vector Observation: 1\n",
      "        Vector Action space type: continuous\n",
      "        Vector Action space size (per agent): 4\n",
      "        Vector Action descriptions: , , , \n"
     ]
    }
   ],
   "source": [
    "from unityagents import UnityEnvironment\n",
    "import numpy as np\n",
    "\n",
    "single_agent = False\n",
    "\n",
    "if single_agent: #One agent environment\n",
    "    env = UnityEnvironment(file_name='/data/Reacher_One_Linux_NoVis/Reacher_One_Linux_NoVis.x86_64')\n",
    "else: #20 agent environment\n",
    "    env = UnityEnvironment(file_name='/data/Reacher_Linux_NoVis/Reacher.x86_64')"
   ]
  },
  {
   "cell_type": "code",
   "execution_count": 3,
   "metadata": {},
   "outputs": [],
   "source": [
    "brain_name = env.brain_names[0]\n",
    "brain = env.brains[brain_name]"
   ]
  },
  {
   "cell_type": "code",
   "execution_count": 4,
   "metadata": {},
   "outputs": [
    {
     "name": "stdout",
     "output_type": "stream",
     "text": [
      "Number of agents: 20\n",
      "Size of each action: 4\n",
      "There are 20 agents. Each observes a state with length: 33\n",
      "The state for the first agent looks like: [  0.00000000e+00  -4.00000000e+00   0.00000000e+00   1.00000000e+00\n",
      "  -0.00000000e+00  -0.00000000e+00  -4.37113883e-08   0.00000000e+00\n",
      "   0.00000000e+00   0.00000000e+00   0.00000000e+00   0.00000000e+00\n",
      "   0.00000000e+00   0.00000000e+00  -1.00000000e+01   0.00000000e+00\n",
      "   1.00000000e+00  -0.00000000e+00  -0.00000000e+00  -4.37113883e-08\n",
      "   0.00000000e+00   0.00000000e+00   0.00000000e+00   0.00000000e+00\n",
      "   0.00000000e+00   0.00000000e+00   5.75471878e+00  -1.00000000e+00\n",
      "   5.55726624e+00   0.00000000e+00   1.00000000e+00   0.00000000e+00\n",
      "  -1.68164849e-01]\n",
      "Rewards shape:  20\n",
      "[0.0, 0.0, 0.0, 0.0, 0.0, 0.0, 0.0, 0.0, 0.0, 0.0, 0.0, 0.0, 0.0, 0.0, 0.0, 0.0, 0.0, 0.0, 0.0, 0.0]\n"
     ]
    }
   ],
   "source": [
    "# reset the environment\n",
    "env_info = env.reset(train_mode=True)[brain_name]\n",
    "\n",
    "# number of agents\n",
    "num_agents = len(env_info.agents)\n",
    "print('Number of agents:', num_agents)\n",
    "\n",
    "# size of each action\n",
    "action_size = brain.vector_action_space_size\n",
    "print('Size of each action:', action_size)\n",
    "\n",
    "# examine the state space \n",
    "states = env_info.vector_observations\n",
    "state_size = states.shape[1]\n",
    "print('There are {} agents. Each observes a state with length: {}'.format(states.shape[0], state_size))\n",
    "print('The state for the first agent looks like:', states[0])\n",
    "\n",
    "#examine rewards\n",
    "rewards = env_info.rewards\n",
    "print(\"Rewards shape: \", len(rewards))\n",
    "print(rewards)"
   ]
  },
  {
   "cell_type": "code",
   "execution_count": 5,
   "metadata": {},
   "outputs": [],
   "source": [
    "import matplotlib.pyplot as plt\n",
    "%matplotlib inline\n",
    "\n",
    "def plot_running_avg(scores, window=100):\n",
    "    \"\"\"\n",
    "    Plots the running average of desired window size\n",
    "        ARGS:\n",
    "            scores(list):= list of episodic rewards\n",
    "            window(int):= size of the window the average will be computed over\n",
    "    \"\"\"\n",
    "    scores = np.array(scores)\n",
    "    N = len(scores)\n",
    "    running_avg = np.empty(N)\n",
    "    thresh = np.array([30 for i in range(len(scores))])\n",
    "    ax = np.arange(0, len(scores))\n",
    "    \n",
    "    for t in range(N):\n",
    "        running_avg[t] = scores[max(0, t-window):t+1].mean()\n",
    "    \n",
    "    plt.plot(ax, running_avg, ax, thresh)\n",
    "    plt.title(\"Running Average ({}) Score\".format(window))\n",
    "    plt.savefig(\"td3pg_scores_running100_mean.pdf\", dpi=1600)\n",
    "    plt.show()"
   ]
  },
  {
   "cell_type": "code",
   "execution_count": 6,
   "metadata": {},
   "outputs": [],
   "source": [
    "from collections import deque\n",
    "from agent import Agent\n",
    "\n",
    "RESULTS = [] #Used in the event of keyboard exit so results can still be visually examined\n",
    "\n",
    "#Only effects training if single_agent = False\n",
    "SINGLE_ACTOR = True #True => 1 agent controlling 20 arms; False => 20 agents controlling 1 arm each\n",
    "\n",
    "def train(env, n_episodes, seed):\n",
    "    scores_list = []\n",
    "    scores_window = deque(maxlen=100)\n",
    "    epsilon = 1.0\n",
    "    \n",
    "    if not SINGLE_ACTOR:\n",
    "        agents = [Agent(state_size, action_size, seed) for _ in range(num_agents)]\n",
    "    else:\n",
    "        agent = Agent(state_size, action_size, seed)\n",
    "    \n",
    "    for e in range(n_episodes):\n",
    "        env_info = env.reset(train_mode=True)[brain_name]        \n",
    "        states = env_info.vector_observations                 \n",
    "        scores = np.zeros(num_agents) \n",
    "        \n",
    "        if not SINGLE_ACTOR:\n",
    "            for agent in agents:\n",
    "                agent.reset()\n",
    "        else:\n",
    "            agent.reset()\n",
    "        \n",
    "        epsilon = max((epsilon * np.exp(-0.005 * e)), 0.01)\n",
    "        \n",
    "        while True:\n",
    "            if not SINGLE_ACTOR:\n",
    "                actions = [agents[i].act(states[i], epsilon) for i in range(num_agents)] \n",
    "            else:\n",
    "                actions = [agent.act(states[i], epsilon) for i in range(num_agents)]\n",
    "            env_info = env.step(actions)[brain_name]           \n",
    "            next_states = env_info.vector_observations         \n",
    "            rewards = env_info.rewards                         \n",
    "            dones = env_info.local_done\n",
    "            \n",
    "            if not SINGLE_ACTOR:\n",
    "                for i in range(num_agents):\n",
    "                    agents[i].step(states, actions, rewards, next_states, dones)\n",
    "            else:\n",
    "                agent.step(states, actions, rewards, next_states, dones)\n",
    "\n",
    "            scores += env_info.rewards                         \n",
    "            states = next_states  \n",
    "\n",
    "            if np.any(dones):                                  \n",
    "                break\n",
    "                \n",
    "        mean_scores = np.mean(scores)        \n",
    "        scores_list.append(mean_scores)\n",
    "        scores_window.append(mean_scores)\n",
    "        \n",
    "        print(\"Episode {}:\\tEpisode Score {:.4f}\\tRunning Mean Score {:.4f}\\tEpsilon {:.4f}\".format(e+1,\n",
    "                                                                                                    mean_scores,\n",
    "                                                                                                    np.mean(scores_window),\n",
    "                                                                                                    epsilon\n",
    "                                                                                                   ))\n",
    "        \n",
    "        if np.mean(scores_window) >= 30.0 and ((e+1) >= 100):\n",
    "            print(f\"Agent solved environment in {e+1} episodes!\")\n",
    "            break\n",
    "        \n",
    "        global RESULTS\n",
    "        RESULTS.append(mean_scores)\n",
    "    \n",
    "    if not SINGLE_ACTOR:\n",
    "        return scores_list, agents\n",
    "    else:\n",
    "        return scores_list, agent"
   ]
  },
  {
   "cell_type": "code",
   "execution_count": 7,
   "metadata": {},
   "outputs": [],
   "source": [
    "from workspace_utils import active_session"
   ]
  },
  {
   "cell_type": "code",
   "execution_count": 8,
   "metadata": {
    "scrolled": false
   },
   "outputs": [
    {
     "name": "stdout",
     "output_type": "stream",
     "text": [
      "Episode 1:\tEpisode Score 0.8105\tRunning Mean Score 0.8105\tEpsilon 1.0000\n",
      "Episode 2:\tEpisode Score 0.8195\tRunning Mean Score 0.8150\tEpsilon 0.9950\n",
      "Episode 3:\tEpisode Score 0.9385\tRunning Mean Score 0.8562\tEpsilon 0.9851\n",
      "Episode 4:\tEpisode Score 1.4540\tRunning Mean Score 1.0056\tEpsilon 0.9704\n",
      "Episode 5:\tEpisode Score 2.1865\tRunning Mean Score 1.2418\tEpsilon 0.9512\n",
      "Episode 6:\tEpisode Score 3.3525\tRunning Mean Score 1.5936\tEpsilon 0.9277\n",
      "Episode 7:\tEpisode Score 4.9470\tRunning Mean Score 2.0726\tEpsilon 0.9003\n",
      "Episode 8:\tEpisode Score 5.2830\tRunning Mean Score 2.4739\tEpsilon 0.8694\n",
      "Episode 9:\tEpisode Score 5.5585\tRunning Mean Score 2.8167\tEpsilon 0.8353\n",
      "Episode 10:\tEpisode Score 5.8205\tRunning Mean Score 3.1170\tEpsilon 0.7985\n",
      "Episode 11:\tEpisode Score 8.7965\tRunning Mean Score 3.6334\tEpsilon 0.7596\n",
      "Episode 12:\tEpisode Score 9.3735\tRunning Mean Score 4.1117\tEpsilon 0.7189\n",
      "Episode 13:\tEpisode Score 9.1430\tRunning Mean Score 4.4987\tEpsilon 0.6771\n",
      "Episode 14:\tEpisode Score 12.1715\tRunning Mean Score 5.0468\tEpsilon 0.6344\n",
      "Episode 15:\tEpisode Score 12.9060\tRunning Mean Score 5.5707\tEpsilon 0.5916\n",
      "Episode 16:\tEpisode Score 13.9635\tRunning Mean Score 6.0953\tEpsilon 0.5488\n",
      "Episode 17:\tEpisode Score 13.9315\tRunning Mean Score 6.5562\tEpsilon 0.5066\n",
      "Episode 18:\tEpisode Score 14.6870\tRunning Mean Score 7.0079\tEpsilon 0.4653\n",
      "Episode 19:\tEpisode Score 15.7795\tRunning Mean Score 7.4696\tEpsilon 0.4253\n",
      "Episode 20:\tEpisode Score 13.5410\tRunning Mean Score 7.7732\tEpsilon 0.3867\n",
      "Episode 21:\tEpisode Score 16.4690\tRunning Mean Score 8.1873\tEpsilon 0.3499\n",
      "Episode 22:\tEpisode Score 17.2500\tRunning Mean Score 8.5992\tEpsilon 0.3151\n",
      "Episode 23:\tEpisode Score 20.6370\tRunning Mean Score 9.1226\tEpsilon 0.2822\n",
      "Episode 24:\tEpisode Score 19.3770\tRunning Mean Score 9.5499\tEpsilon 0.2516\n",
      "Episode 25:\tEpisode Score 18.4430\tRunning Mean Score 9.9056\tEpsilon 0.2231\n",
      "Episode 26:\tEpisode Score 19.8500\tRunning Mean Score 10.2881\tEpsilon 0.1969\n",
      "Episode 27:\tEpisode Score 19.7010\tRunning Mean Score 10.6367\tEpsilon 0.1729\n",
      "Episode 28:\tEpisode Score 22.4770\tRunning Mean Score 11.0596\tEpsilon 0.1511\n",
      "Episode 29:\tEpisode Score 24.8965\tRunning Mean Score 11.5367\tEpsilon 0.1313\n",
      "Episode 30:\tEpisode Score 19.8075\tRunning Mean Score 11.8124\tEpsilon 0.1136\n",
      "Episode 31:\tEpisode Score 23.7920\tRunning Mean Score 12.1988\tEpsilon 0.0978\n",
      "Episode 32:\tEpisode Score 28.3625\tRunning Mean Score 12.7039\tEpsilon 0.0837\n",
      "Episode 33:\tEpisode Score 29.5920\tRunning Mean Score 13.2157\tEpsilon 0.0714\n",
      "Episode 34:\tEpisode Score 29.5645\tRunning Mean Score 13.6965\tEpsilon 0.0605\n",
      "Episode 35:\tEpisode Score 30.9190\tRunning Mean Score 14.1886\tEpsilon 0.0510\n",
      "Episode 36:\tEpisode Score 28.2525\tRunning Mean Score 14.5793\tEpsilon 0.0429\n",
      "Episode 37:\tEpisode Score 29.8945\tRunning Mean Score 14.9932\tEpsilon 0.0358\n",
      "Episode 38:\tEpisode Score 30.6460\tRunning Mean Score 15.4051\tEpsilon 0.0297\n",
      "Episode 39:\tEpisode Score 27.4170\tRunning Mean Score 15.7131\tEpsilon 0.0246\n",
      "Episode 40:\tEpisode Score 26.8130\tRunning Mean Score 15.9906\tEpsilon 0.0202\n",
      "Episode 41:\tEpisode Score 26.1455\tRunning Mean Score 16.2383\tEpsilon 0.0166\n",
      "Episode 42:\tEpisode Score 30.5195\tRunning Mean Score 16.5783\tEpsilon 0.0135\n",
      "Episode 43:\tEpisode Score 29.7960\tRunning Mean Score 16.8857\tEpsilon 0.0109\n",
      "Episode 44:\tEpisode Score 28.2285\tRunning Mean Score 17.1435\tEpsilon 0.0100\n",
      "Episode 45:\tEpisode Score 28.2215\tRunning Mean Score 17.3897\tEpsilon 0.0100\n",
      "Episode 46:\tEpisode Score 23.1555\tRunning Mean Score 17.5150\tEpsilon 0.0100\n",
      "Episode 47:\tEpisode Score 20.4490\tRunning Mean Score 17.5774\tEpsilon 0.0100\n",
      "Episode 48:\tEpisode Score 26.2890\tRunning Mean Score 17.7589\tEpsilon 0.0100\n",
      "Episode 49:\tEpisode Score 23.3695\tRunning Mean Score 17.8734\tEpsilon 0.0100\n",
      "Episode 50:\tEpisode Score 28.6195\tRunning Mean Score 18.0884\tEpsilon 0.0100\n",
      "Episode 51:\tEpisode Score 30.9015\tRunning Mean Score 18.3396\tEpsilon 0.0100\n",
      "Episode 52:\tEpisode Score 31.3660\tRunning Mean Score 18.5901\tEpsilon 0.0100\n",
      "Episode 53:\tEpisode Score 26.6605\tRunning Mean Score 18.7424\tEpsilon 0.0100\n",
      "Episode 54:\tEpisode Score 26.7550\tRunning Mean Score 18.8908\tEpsilon 0.0100\n",
      "Episode 55:\tEpisode Score 23.5445\tRunning Mean Score 18.9754\tEpsilon 0.0100\n",
      "Episode 56:\tEpisode Score 24.2265\tRunning Mean Score 19.0691\tEpsilon 0.0100\n",
      "Episode 57:\tEpisode Score 27.5705\tRunning Mean Score 19.2183\tEpsilon 0.0100\n",
      "Episode 58:\tEpisode Score 28.8020\tRunning Mean Score 19.3835\tEpsilon 0.0100\n",
      "Episode 59:\tEpisode Score 27.6360\tRunning Mean Score 19.5234\tEpsilon 0.0100\n",
      "Episode 60:\tEpisode Score 30.8925\tRunning Mean Score 19.7129\tEpsilon 0.0100\n",
      "Episode 61:\tEpisode Score 29.6795\tRunning Mean Score 19.8763\tEpsilon 0.0100\n",
      "Episode 62:\tEpisode Score 24.8780\tRunning Mean Score 19.9569\tEpsilon 0.0100\n",
      "Episode 63:\tEpisode Score 30.5530\tRunning Mean Score 20.1251\tEpsilon 0.0100\n",
      "Episode 64:\tEpisode Score 30.0510\tRunning Mean Score 20.2802\tEpsilon 0.0100\n",
      "Episode 65:\tEpisode Score 30.3260\tRunning Mean Score 20.4348\tEpsilon 0.0100\n",
      "Episode 66:\tEpisode Score 29.2455\tRunning Mean Score 20.5683\tEpsilon 0.0100\n",
      "Episode 67:\tEpisode Score 30.0060\tRunning Mean Score 20.7091\tEpsilon 0.0100\n",
      "Episode 68:\tEpisode Score 30.5995\tRunning Mean Score 20.8546\tEpsilon 0.0100\n",
      "Episode 69:\tEpisode Score 33.3080\tRunning Mean Score 21.0351\tEpsilon 0.0100\n",
      "Episode 70:\tEpisode Score 33.1715\tRunning Mean Score 21.2084\tEpsilon 0.0100\n",
      "Episode 71:\tEpisode Score 34.6615\tRunning Mean Score 21.3979\tEpsilon 0.0100\n",
      "Episode 72:\tEpisode Score 35.3455\tRunning Mean Score 21.5916\tEpsilon 0.0100\n",
      "Episode 73:\tEpisode Score 32.9030\tRunning Mean Score 21.7466\tEpsilon 0.0100\n",
      "Episode 74:\tEpisode Score 31.1130\tRunning Mean Score 21.8732\tEpsilon 0.0100\n",
      "Episode 75:\tEpisode Score 34.8145\tRunning Mean Score 22.0457\tEpsilon 0.0100\n",
      "Episode 76:\tEpisode Score 31.9645\tRunning Mean Score 22.1762\tEpsilon 0.0100\n",
      "Episode 77:\tEpisode Score 30.3490\tRunning Mean Score 22.2824\tEpsilon 0.0100\n",
      "Episode 78:\tEpisode Score 30.5870\tRunning Mean Score 22.3888\tEpsilon 0.0100\n",
      "Episode 79:\tEpisode Score 35.2255\tRunning Mean Score 22.5513\tEpsilon 0.0100\n",
      "Episode 80:\tEpisode Score 33.0215\tRunning Mean Score 22.6822\tEpsilon 0.0100\n",
      "Episode 81:\tEpisode Score 25.2655\tRunning Mean Score 22.7141\tEpsilon 0.0100\n",
      "Episode 82:\tEpisode Score 23.0015\tRunning Mean Score 22.7176\tEpsilon 0.0100\n",
      "Episode 83:\tEpisode Score 17.9380\tRunning Mean Score 22.6600\tEpsilon 0.0100\n",
      "Episode 84:\tEpisode Score 24.7510\tRunning Mean Score 22.6849\tEpsilon 0.0100\n",
      "Episode 85:\tEpisode Score 26.1520\tRunning Mean Score 22.7257\tEpsilon 0.0100\n",
      "Episode 86:\tEpisode Score 28.5630\tRunning Mean Score 22.7936\tEpsilon 0.0100\n",
      "Episode 87:\tEpisode Score 30.7380\tRunning Mean Score 22.8849\tEpsilon 0.0100\n",
      "Episode 88:\tEpisode Score 33.6455\tRunning Mean Score 23.0072\tEpsilon 0.0100\n",
      "Episode 89:\tEpisode Score 29.1220\tRunning Mean Score 23.0759\tEpsilon 0.0100\n",
      "Episode 90:\tEpisode Score 31.9860\tRunning Mean Score 23.1749\tEpsilon 0.0100\n",
      "Episode 91:\tEpisode Score 35.3260\tRunning Mean Score 23.3084\tEpsilon 0.0100\n",
      "Episode 92:\tEpisode Score 33.6385\tRunning Mean Score 23.4207\tEpsilon 0.0100\n",
      "Episode 93:\tEpisode Score 36.3425\tRunning Mean Score 23.5596\tEpsilon 0.0100\n",
      "Episode 94:\tEpisode Score 33.0325\tRunning Mean Score 23.6604\tEpsilon 0.0100\n",
      "Episode 95:\tEpisode Score 32.0040\tRunning Mean Score 23.7482\tEpsilon 0.0100\n",
      "Episode 96:\tEpisode Score 32.5800\tRunning Mean Score 23.8402\tEpsilon 0.0100\n",
      "Episode 97:\tEpisode Score 29.5070\tRunning Mean Score 23.8986\tEpsilon 0.0100\n",
      "Episode 98:\tEpisode Score 33.3115\tRunning Mean Score 23.9947\tEpsilon 0.0100\n",
      "Episode 99:\tEpisode Score 33.2310\tRunning Mean Score 24.0880\tEpsilon 0.0100\n",
      "Episode 100:\tEpisode Score 33.7985\tRunning Mean Score 24.1851\tEpsilon 0.0100\n",
      "Episode 101:\tEpisode Score 32.2485\tRunning Mean Score 24.4995\tEpsilon 0.0100\n",
      "Episode 102:\tEpisode Score 30.8080\tRunning Mean Score 24.7994\tEpsilon 0.0100\n",
      "Episode 103:\tEpisode Score 31.9830\tRunning Mean Score 25.1098\tEpsilon 0.0100\n",
      "Episode 104:\tEpisode Score 35.9395\tRunning Mean Score 25.4547\tEpsilon 0.0100\n",
      "Episode 105:\tEpisode Score 33.2005\tRunning Mean Score 25.7648\tEpsilon 0.0100\n",
      "Episode 106:\tEpisode Score 35.9660\tRunning Mean Score 26.0909\tEpsilon 0.0100\n",
      "Episode 107:\tEpisode Score 37.3830\tRunning Mean Score 26.4153\tEpsilon 0.0100\n",
      "Episode 108:\tEpisode Score 36.5280\tRunning Mean Score 26.7277\tEpsilon 0.0100\n",
      "Episode 109:\tEpisode Score 33.0965\tRunning Mean Score 27.0031\tEpsilon 0.0100\n",
      "Episode 110:\tEpisode Score 33.5630\tRunning Mean Score 27.2806\tEpsilon 0.0100\n",
      "Episode 111:\tEpisode Score 31.6130\tRunning Mean Score 27.5087\tEpsilon 0.0100\n",
      "Episode 112:\tEpisode Score 30.6440\tRunning Mean Score 27.7214\tEpsilon 0.0100\n",
      "Episode 113:\tEpisode Score 32.3710\tRunning Mean Score 27.9537\tEpsilon 0.0100\n",
      "Episode 114:\tEpisode Score 34.1165\tRunning Mean Score 28.1732\tEpsilon 0.0100\n",
      "Episode 115:\tEpisode Score 31.6060\tRunning Mean Score 28.3602\tEpsilon 0.0100\n",
      "Episode 116:\tEpisode Score 30.7665\tRunning Mean Score 28.5282\tEpsilon 0.0100\n",
      "Episode 117:\tEpisode Score 24.4360\tRunning Mean Score 28.6332\tEpsilon 0.0100\n",
      "Episode 118:\tEpisode Score 24.1620\tRunning Mean Score 28.7280\tEpsilon 0.0100\n",
      "Episode 119:\tEpisode Score 27.6730\tRunning Mean Score 28.8469\tEpsilon 0.0100\n",
      "Episode 120:\tEpisode Score 31.7225\tRunning Mean Score 29.0287\tEpsilon 0.0100\n",
      "Episode 121:\tEpisode Score 31.5535\tRunning Mean Score 29.1796\tEpsilon 0.0100\n",
      "Episode 122:\tEpisode Score 33.2220\tRunning Mean Score 29.3393\tEpsilon 0.0100\n",
      "Episode 123:\tEpisode Score 37.2780\tRunning Mean Score 29.5057\tEpsilon 0.0100\n",
      "Episode 124:\tEpisode Score 34.4630\tRunning Mean Score 29.6566\tEpsilon 0.0100\n",
      "Episode 125:\tEpisode Score 34.4320\tRunning Mean Score 29.8165\tEpsilon 0.0100\n",
      "Episode 126:\tEpisode Score 32.7005\tRunning Mean Score 29.9450\tEpsilon 0.0100\n",
      "Episode 127:\tEpisode Score 30.6390\tRunning Mean Score 30.0543\tEpsilon 0.0100\n",
      "Agent solved environment in 127 episodes!\n"
     ]
    }
   ],
   "source": [
    "with active_session():\n",
    "    results, agent = train(env, 1000, seed=628)"
   ]
  },
  {
   "cell_type": "code",
   "execution_count": 9,
   "metadata": {},
   "outputs": [
    {
     "data": {
      "image/png": "[encoded data removed]",
      "text/plain": [
       "<matplotlib.figure.Figure at 0x7f066772ecc0>"
      ]
     },
     "metadata": {
      "needs_background": "light"
     },
     "output_type": "display_data"
    }
   ],
   "source": [
    "ax = np.arange(0,len(RESULTS))\n",
    "thresh = np.array([30 for i in range(len(RESULTS))])\n",
    "plt.plot(ax, RESULTS, ax, thresh)\n",
    "plt.savefig(\"td3pg_scores.pdf\", dpi=1600)\n",
    "plt.show()"
   ]
  },
  {
   "cell_type": "code",
   "execution_count": 10,
   "metadata": {},
   "outputs": [
    {
     "data": {
      "image/png": "[encoded data removed]",
      "text/plain": [
       "<matplotlib.figure.Figure at 0x7f06c01e9d30>"
      ]
     },
     "metadata": {
      "needs_background": "light"
     },
     "output_type": "display_data"
    }
   ],
   "source": [
    "plot_running_avg(RESULTS)"
   ]
  },
  {
   "cell_type": "code",
   "execution_count": 11,
   "metadata": {},
   "outputs": [],
   "source": [
    "import torch\n",
    "\n",
    "torch.save(agent.act_local.state_dict(), 'trained_actor_model.pth')\n",
    "torch.save(agent.crt_local_1.state_dict(), 'trained_critic_model_1.pth')\n",
    "torch.save(agent.crt_local_2.state_dict(), 'trained_critic_model_2.pth')"
   ]
  },
  {
   "cell_type": "code",
   "execution_count": 12,
   "metadata": {},
   "outputs": [],
   "source": [
    "env.close()"
   ]
  },
  {
   "cell_type": "code",
   "execution_count": null,
   "metadata": {},
   "outputs": [],
   "source": []
  }
 ],
 "metadata": {
  "kernelspec": {
   "display_name": "Python 3",
   "language": "python",
   "name": "python3"
  },
  "language_info": {
   "codemirror_mode": {
    "name": "ipython",
    "version": 3
   },
   "file_extension": ".py",
   "mimetype": "text/x-python",
   "name": "python",
   "nbconvert_exporter": "python",
   "pygments_lexer": "ipython3",
   "version": "3.6.3"
  }
 },
 "nbformat": 4,
 "nbformat_minor": 2
}
