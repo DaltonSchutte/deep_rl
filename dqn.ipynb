{
 "cells": [
  {
   "cell_type": "code",
   "execution_count": 1,
   "metadata": {},
   "outputs": [],
   "source": [
    "import math\n",
    "import random\n",
    "import numpy as np\n",
    "import matplotlib\n",
    "import matplotlib.pyplot as plt\n",
    "from collections import namedtuple, deque\n",
    "from PIL import Image\n",
    "\n",
    "import gym\n",
    "\n",
    "import torch\n",
    "import torch.optim as optim\n",
    "\n",
    "from model import QNet\n",
    "\n",
    "%matplotlib inline"
   ]
  },
  {
   "cell_type": "code",
   "execution_count": 2,
   "metadata": {},
   "outputs": [
    {
     "name": "stdout",
     "output_type": "stream",
     "text": [
      "Using CPU! Recommend moving to GPU for training!\n"
     ]
    }
   ],
   "source": [
    "use_cuda = torch.cuda.is_available()\n",
    "\n",
    "if use_cuda:\n",
    "    print('Using GPU!')\n",
    "else:\n",
    "    print('Using CPU! Recommend moving to GPU for training!')"
   ]
  },
  {
   "cell_type": "markdown",
   "metadata": {},
   "source": [
    "I plan to use an EC2 p2.xlarge instance to train the model"
   ]
  },
  {
   "cell_type": "code",
   "execution_count": 3,
   "metadata": {},
   "outputs": [
    {
     "name": "stdout",
     "output_type": "stream",
     "text": [
      "State shape:  (210, 160, 3)\n",
      "Actions:  4\n"
     ]
    }
   ],
   "source": [
    "#Create the Breakout environment with each action being repeated over 4 frames\n",
    "env = gym.make('BreakoutDeterministic-v4')\n",
    "env.seed(0)\n",
    "\n",
    "STATE_SHAPE = env.observation_space.shape\n",
    "NUM_ACTIONS = env.action_space.n\n",
    "\n",
    "print('State shape: ', STATE_SHAPE)\n",
    "print('Actions: ', NUM_ACTIONS)"
   ]
  },
  {
   "cell_type": "code",
   "execution_count": 35,
   "metadata": {},
   "outputs": [],
   "source": [
    "class ReplayMem():\n",
    "    \"\"\"\n",
    "        Memory to store recent transitions undergone by the agent for future use\n",
    "        ARGS:\n",
    "        capacity:= maximum number of transitions to keep in memory\n",
    "        num_actions:= number of actions in the environment\n",
    "        batch_size:= size of each training batch\n",
    "        seed:= random seed\n",
    "        device('cuda', 'cpu'):= device used for agent\n",
    "    \"\"\"\n",
    "    def __init__(self, capacity, num_actions, batch_size, seed, device):\n",
    "        self.memory = deque(maxlen=capacity)\n",
    "        self.num_actions = num_actions\n",
    "        self.batch_size = batch_size\n",
    "        self.experience = namedtuple('Experience', ['state', 'action', 'reward', 'next_state', 'done'])\n",
    "        self.seed = random.seed(seed)\n",
    "        self.device = device\n",
    "        \n",
    "    def push(self, state, action, reward, next_state, done):\n",
    "        \"\"\"\n",
    "            Saves a transition to the memory\n",
    "        \"\"\"\n",
    "        exp = self.experience(state, action, reward, next_state, done)\n",
    "        self.memory.append(exp)\n",
    "        \n",
    "    def sample(self):\n",
    "        \"\"\"\n",
    "            Randomly sample specified number of transitions from the memory\n",
    "            ARGS:\n",
    "            n_samples:= number of samples to pull, without replacement\n",
    "            RETURN:\n",
    "            n_samples number of transitions\n",
    "        \"\"\"\n",
    "        experiences = random.sample(self.memory, k=self.batch_size)\n",
    "        \n",
    "        states = torch.from_numpy(np.vstack([exp.state for exp in experiences if exp is not None])).float().to(self.device)\n",
    "        actions = torch.from_numpy(np.vstack([exp.action for exp in experiences if exp is not None])).long().to(self.device)\n",
    "        rewards = torch.from_numpy(np.vstack([exp.reward for exp in experiences if exp is not None])).float().to(self.device)\n",
    "        next_states = torch.from_numpy(np.vstack([exp.next_state for exp in experiences if exp is not None])).float().to(self.device)\n",
    "        dones = torch.from_numpy(np.vstack([exp.done for exp in experiences if exp is not None]).astype(np.uint8)).float().to(self.device)\n",
    "        \n",
    "        return (states, actions, rewards, next_states, dones)\n",
    "        \n",
    "    def __len__(self):\n",
    "        return len(self.memory)"
   ]
  },
  {
   "cell_type": "code",
   "execution_count": 15,
   "metadata": {},
   "outputs": [],
   "source": [
    "class Agent():\n",
    "    \"\"\"\n",
    "        Agent to interact with and learn from the chosen environment\n",
    "        ARGS:\n",
    "        num_actions:= number of valid actions the agent can choose from in the environment\n",
    "        batch_size:= number of \n",
    "        seed:= random seed\n",
    "        cuda(boolean):= boolean describing if gpu is available for use\n",
    "        lr:= learning rate\n",
    "        gamma:= discount factor\n",
    "        tau:= for soft update of target parameters\n",
    "        update_every:= number of steps before the target_net is updated with the policy_net params\n",
    "    \"\"\"\n",
    "    def __init__(self, num_actions, batch_size, seed, cuda, lr, gamma, tau, update_every):\n",
    "        self.num_actions = num_actions\n",
    "        self.batch_size = batch_size\n",
    "        self.seed = random.seed(seed)\n",
    "        self.gamma = gamma\n",
    "        self.tau = tau\n",
    "        self.update_every = update_every\n",
    "        \n",
    "        if cuda:\n",
    "            self.device = torch.device('cuda')\n",
    "        else:\n",
    "            self.device = torch.device('cpu')\n",
    "        \n",
    "        self.policy_net = QNet()\n",
    "        self.target_net = QNet()\n",
    "        self.optimizer = optim.Adam(self.policy_net.parameters(), lr=lr)\n",
    "        \n",
    "        self.memory = ReplayMem(capacity=100000,\n",
    "                                num_actions=num_actions,\n",
    "                                batch_size=batch_size,\n",
    "                                seed=seed,\n",
    "                                device=self.device)\n",
    "        \n",
    "        self.t_step = 0\n",
    "        \n",
    "    def step(self, state, action, reward, next_state, done):\n",
    "        self.memory.push(state, action, reward, next_state, done)\n",
    "        \n",
    "        self.t_step = (self.t_step + 1) % self.update_every\n",
    "        if self.t_step == 0:\n",
    "            if len(self.memory) > self.batch_size:\n",
    "                experiences = self.memory.sample()\n",
    "                self.learn(experiences)\n",
    "                \n",
    "    def choose_action(self, state, eps=0):\n",
    "        state = torch.from_numpy(state).float().unsqueeze(0).to(self.device)\n",
    "        self.policy_net.eval()\n",
    "        with torch.no_grad():\n",
    "            action_values = self.policy_net(state)\n",
    "        self.policy_net.train()\n",
    "        \n",
    "        if random.random() > eps:\n",
    "            return np.argmax(action_values.cpu().data.numpy())\n",
    "        else:\n",
    "            return random.choice(np.arange(self.num_actions))\n",
    "        \n",
    "    def learn(self, experiences):\n",
    "        states, actions, rewards, next_states, dones = experiences\n",
    "        \n",
    "        Q_target_next = self.target_net(next_states).detach().max(1)[0].unsqueeze(1)\n",
    "        Q_target = rewards + (self.gamma * Q_target_next * (1 - dones))\n",
    "        \n",
    "        Q_expected = self.policy_net(states).gather(1, actions)\n",
    "        \n",
    "        loss = F.mse_loss(Q_expected, Q_target)\n",
    "        self.optimizer.zero_grad()\n",
    "        loss.backward()\n",
    "        self.optimizer.step()\n",
    "        \n",
    "        self.soft_update(self.policy_net, self.target_net)\n",
    "        \n",
    "    def soft_update(self, policy_net, target_net):\n",
    "        for target_param, polic_param in zip(target_net.parameters(), policy_net.parameters()):\n",
    "            target_param.data.copy_(self.tau * policy_param.data + (1.0 - self.tau) * target_param.data)"
   ]
  },
  {
   "cell_type": "code",
   "execution_count": 12,
   "metadata": {},
   "outputs": [],
   "source": [
    "def preprocess_frames(state):\n",
    "    \"\"\"\n",
    "        Convert a game frame to an 84x84 grayscale image\n",
    "    \"\"\"\n",
    "    image = np.reshape(state, [210, 160, 3]).astype(np.float32)\n",
    "    image = image[:,:,0] * 0.299 + image[:,:,1] * 0.587 + image[:,:,2] * 0.114\n",
    "    image = Image.fromarray(image)\n",
    "    screen = image.resize((84,110), Image.CUBIC)\n",
    "    screen = np.array(screen)\n",
    "    play_area = screen[18:102,:]\n",
    "    play_area = play_area / 255.0\n",
    "    play_area = np.expand_dims(play_area, 0)\n",
    "    return play_area"
   ]
  },
  {
   "cell_type": "code",
   "execution_count": 20,
   "metadata": {},
   "outputs": [],
   "source": [
    "#Hyperparameters, optimizer, and loss, taken from paper Hasselt et al. 2015\n",
    "BATCH_SIZE = 32\n",
    "EPS_START = 1.\n",
    "EPS_END = 0.01\n",
    "EPS_DECAY = 0.995\n",
    "MEMORY = 100000 #Paper says 1M frames, however, due to memory constraints we will use fewer\n",
    "GAMMA = 0.99\n",
    "LR = 0.00025\n",
    "TAU = 0.001\n",
    "UPDATE_EVERY = 10000"
   ]
  },
  {
   "cell_type": "code",
   "execution_count": 36,
   "metadata": {},
   "outputs": [],
   "source": [
    "agent = Agent(num_actions=NUM_ACTIONS,\n",
    "              batch_size=BATCH_SIZE, \n",
    "              seed=314, \n",
    "              cuda=use_cuda, \n",
    "              lr=LR, \n",
    "              gamma=GAMMA, \n",
    "              tau=TAU, \n",
    "              update_every=UPDATE_EVERY)"
   ]
  },
  {
   "cell_type": "code",
   "execution_count": 17,
   "metadata": {},
   "outputs": [],
   "source": [
    "#Test that everything works and observe an untrained agent\n",
    "state = env.reset()\n",
    "for i in range(200):\n",
    "    state = preprocess_frames(state)\n",
    "    action = agent.choose_action(state)\n",
    "    env.render()\n",
    "    state, reward, done, _ = env.step(action)\n",
    "    if done:\n",
    "        break\n",
    "        \n",
    "env.close()"
   ]
  },
  {
   "cell_type": "code",
   "execution_count": 38,
   "metadata": {},
   "outputs": [],
   "source": [
    "def train(agent, n_episodes, max_t, eps_start, eps_end, eps_decay, freq):\n",
    "    \"\"\"\n",
    "        Train the agent using Double Deep Q Learning\n",
    "        ARGS:\n",
    "        agent(Agent):= instance of agent that will be trained\n",
    "        n_episodes:= maximum number of training episodes\n",
    "        max_t:= maximum number of time steps per training episode\n",
    "        eps_start:= initial epsilon value (epsilon-greedy)\n",
    "        eps_end:= minimum epsilon value\n",
    "        eps_decay:= decay rate of epsilon value\n",
    "        freq:= frequency of showing average score\n",
    "        RETURN:\n",
    "        list of scores\n",
    "    \"\"\"\n",
    "    scores = []\n",
    "    scores_window = deque(maxlen=100)\n",
    "    eps = eps_start\n",
    "    for ep in range(1, n_episodes+1):\n",
    "        state = env.reset()\n",
    "        score = 0\n",
    "        for t in range(max_t):\n",
    "            state = preprocess_frames(state)\n",
    "            action = agent.choose_action(state, eps)\n",
    "            next_state, reward, done, _ = env.step(action)\n",
    "            agent.step(state, action, reward, next_state, done)\n",
    "            state = next_state\n",
    "            score += reward\n",
    "            if done:\n",
    "                break\n",
    "        scores_window.append(score)\n",
    "        scores.append(score)\n",
    "        eps = max(eps_end, eps_decay*eps)\n",
    "        print('\\rEpisode: {} \\tAverage Score: {:.2f}'.format(ep, np.mean(scores_window)), end=\"\")\n",
    "        \n",
    "        if ep % freq == 0:\n",
    "            print('\\rEpisode: {} \\tAverage Score: {:.2f}'.format(ep, np.mean(scores_window)))\n",
    "            \n",
    "    return scores"
   ]
  },
  {
   "cell_type": "code",
   "execution_count": 39,
   "metadata": {},
   "outputs": [
    {
     "name": "stdout",
     "output_type": "stream",
     "text": [
      "Episode: 10 \tAverage Score: 1.20\n",
      "Episode: 20 \tAverage Score: 1.25\n",
      "Episode: 30 \tAverage Score: 1.13\n",
      "Episode: 40 \tAverage Score: 1.18\n",
      "Episode: 50 \tAverage Score: 1.30\n"
     ]
    }
   ],
   "source": [
    "scores = train(agent, 50, 200, EPS_START, EPS_END, EPS_DECAY, 10)"
   ]
  },
  {
   "cell_type": "code",
   "execution_count": 42,
   "metadata": {},
   "outputs": [
    {
     "data": {
      "image/png": "[encoded data removed]",
      "text/plain": [
       "<Figure size 432x288 with 1 Axes>"
      ]
     },
     "metadata": {
      "needs_background": "light"
     },
     "output_type": "display_data"
    }
   ],
   "source": [
    "fig = plt.figure()\n",
    "ax = fig.add_subplot(111)\n",
    "plt.plot(np.arange(len(scores)), scores)\n",
    "plt.ylabel('Score')\n",
    "plt.xlabel('Episode')\n",
    "plt.show()"
   ]
  },
  {
   "cell_type": "code",
   "execution_count": null,
   "metadata": {},
   "outputs": [],
   "source": []
  }
 ],
 "metadata": {
  "kernelspec": {
   "display_name": "Python 3",
   "language": "python",
   "name": "python3"
  },
  "language_info": {
   "codemirror_mode": {
    "name": "ipython",
    "version": 3
   },
   "file_extension": ".py",
   "mimetype": "text/x-python",
   "name": "python",
   "nbconvert_exporter": "python",
   "pygments_lexer": "ipython3",
   "version": "3.7.0"
  }
 },
 "nbformat": 4,
 "nbformat_minor": 2
}
