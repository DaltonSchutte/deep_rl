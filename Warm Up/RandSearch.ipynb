{
 "cells": [
  {
   "cell_type": "code",
   "execution_count": 5,
   "metadata": {},
   "outputs": [],
   "source": [
    "import gym\n",
    "import numpy as np\n",
    "import matplotlib.pyplot as plt"
   ]
  },
  {
   "cell_type": "code",
   "execution_count": 6,
   "metadata": {},
   "outputs": [],
   "source": [
    "def get_action(s, w):\n",
    "    if s.dot(w) > 0:\n",
    "        return 1\n",
    "    else:\n",
    "        return 0"
   ]
  },
  {
   "cell_type": "code",
   "execution_count": 7,
   "metadata": {},
   "outputs": [],
   "source": [
    "def play_one_episode(env, params, display):\n",
    "    obs = env.reset()\n",
    "    done = False\n",
    "    t = 0\n",
    "    \n",
    "    if display:\n",
    "        env.render()\n",
    "    \n",
    "    while not done and t < 2000:\n",
    "        t += 1\n",
    "        action = get_action(obs, params)\n",
    "        obs, reward, done, _ = env.step(action)\n",
    "        if done:\n",
    "            break\n",
    "            \n",
    "    return t"
   ]
  },
  {
   "cell_type": "code",
   "execution_count": 8,
   "metadata": {},
   "outputs": [],
   "source": [
    "def play_multiple_episodes(env, T, params):\n",
    "    episode_lengths = np.empty(T)\n",
    "    \n",
    "    for t in range(T):\n",
    "        episode_lengths[t] = play_one_episode(env, params, False)\n",
    "        \n",
    "    avg_length = episode_lengths.mean()\n",
    "    \n",
    "    print('Average length: ', avg_length)\n",
    "    return avg_length"
   ]
  },
  {
   "cell_type": "code",
   "execution_count": 9,
   "metadata": {},
   "outputs": [],
   "source": [
    "def random_search(env):\n",
    "    episode_lengths = []\n",
    "    best = 0\n",
    "    params = None\n",
    "    \n",
    "    for t in range(100):\n",
    "        new_params = np.random.random(4)*2-1\n",
    "        avg_length = play_multiple_episodes(env, 100, new_params)\n",
    "        episode_lengths.append(avg_length)\n",
    "        \n",
    "        if avg_length > best:\n",
    "            best = avg_length\n",
    "            params = new_params\n",
    "    \n",
    "    return episode_lengths, params"
   ]
  },
  {
   "cell_type": "code",
   "execution_count": 10,
   "metadata": {
    "scrolled": true
   },
   "outputs": [
    {
     "name": "stdout",
     "output_type": "stream",
     "text": [
      "Average length:  9.6\n",
      "Average length:  9.53\n",
      "Average length:  36.79\n",
      "Average length:  9.36\n",
      "Average length:  43.57\n",
      "Average length:  144.47\n",
      "Average length:  28.36\n",
      "Average length:  9.34\n",
      "Average length:  114.06\n",
      "Average length:  110.55\n",
      "Average length:  200.0\n",
      "Average length:  9.31\n",
      "Average length:  88.37\n",
      "Average length:  92.35\n",
      "Average length:  8.73\n",
      "Average length:  9.77\n",
      "Average length:  37.16\n",
      "Average length:  104.57\n",
      "Average length:  9.03\n",
      "Average length:  9.4\n",
      "Average length:  9.33\n",
      "Average length:  89.32\n",
      "Average length:  189.18\n",
      "Average length:  9.65\n",
      "Average length:  8.94\n",
      "Average length:  9.43\n",
      "Average length:  63.03\n",
      "Average length:  25.97\n",
      "Average length:  43.9\n",
      "Average length:  9.39\n",
      "Average length:  121.57\n",
      "Average length:  9.25\n",
      "Average length:  9.6\n",
      "Average length:  8.97\n",
      "Average length:  9.27\n",
      "Average length:  27.31\n",
      "Average length:  9.39\n",
      "Average length:  9.54\n",
      "Average length:  200.0\n",
      "Average length:  199.8\n",
      "Average length:  9.52\n",
      "Average length:  200.0\n",
      "Average length:  9.28\n",
      "Average length:  155.58\n",
      "Average length:  18.8\n",
      "Average length:  9.88\n",
      "Average length:  93.09\n",
      "Average length:  49.12\n",
      "Average length:  9.2\n",
      "Average length:  200.0\n",
      "Average length:  153.4\n",
      "Average length:  33.15\n",
      "Average length:  9.65\n",
      "Average length:  63.39\n",
      "Average length:  8.89\n",
      "Average length:  9.26\n",
      "Average length:  63.03\n",
      "Average length:  164.67\n",
      "Average length:  9.27\n",
      "Average length:  9.29\n",
      "Average length:  65.63\n",
      "Average length:  9.68\n",
      "Average length:  9.54\n",
      "Average length:  9.37\n",
      "Average length:  32.07\n",
      "Average length:  52.35\n",
      "Average length:  126.94\n",
      "Average length:  57.61\n",
      "Average length:  60.5\n",
      "Average length:  9.49\n",
      "Average length:  137.36\n",
      "Average length:  81.86\n",
      "Average length:  9.7\n",
      "Average length:  87.53\n",
      "Average length:  9.0\n",
      "Average length:  9.48\n",
      "Average length:  199.99\n",
      "Average length:  9.31\n",
      "Average length:  9.65\n",
      "Average length:  111.18\n",
      "Average length:  88.99\n",
      "Average length:  8.9\n",
      "Average length:  9.17\n",
      "Average length:  9.55\n",
      "Average length:  119.98\n",
      "Average length:  59.56\n",
      "Average length:  9.88\n",
      "Average length:  9.56\n",
      "Average length:  9.53\n",
      "Average length:  48.84\n",
      "Average length:  43.96\n",
      "Average length:  48.82\n",
      "Average length:  28.82\n",
      "Average length:  9.38\n",
      "Average length:  8.87\n",
      "Average length:  9.2\n",
      "Average length:  155.71\n",
      "Average length:  9.61\n",
      "Average length:  9.07\n",
      "Average length:  9.3\n"
     ]
    },
    {
     "data": {
      "image/png": "[encoded data removed]",
      "text/plain": [
       "<Figure size 432x288 with 1 Axes>"
      ]
     },
     "metadata": {
      "needs_background": "light"
     },
     "output_type": "display_data"
    },
    {
     "name": "stdout",
     "output_type": "stream",
     "text": [
      "Episodes with Final Parameters:\n"
     ]
    },
    {
     "data": {
      "text/plain": [
       "200"
      ]
     },
     "execution_count": 10,
     "metadata": {},
     "output_type": "execute_result"
    }
   ],
   "source": [
    "env = gym.make('CartPole-v0')\n",
    "episode_lengths, params = random_search(env)\n",
    "plt.plot(episode_lengths)\n",
    "plt.show()\n",
    "\n",
    "print('Episodes with Final Parameters:')\n",
    "play_one_episode(env, params, True)"
   ]
  },
  {
   "cell_type": "code",
   "execution_count": null,
   "metadata": {},
   "outputs": [],
   "source": []
  }
 ],
 "metadata": {
  "kernelspec": {
   "display_name": "Python 3",
   "language": "python",
   "name": "python3"
  },
  "language_info": {
   "codemirror_mode": {
    "name": "ipython",
    "version": 3
   },
   "file_extension": ".py",
   "mimetype": "text/x-python",
   "name": "python",
   "nbconvert_exporter": "python",
   "pygments_lexer": "ipython3",
   "version": "3.7.0"
  }
 },
 "nbformat": 4,
 "nbformat_minor": 2
}
