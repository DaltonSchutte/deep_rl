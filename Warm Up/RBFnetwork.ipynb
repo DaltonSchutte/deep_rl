{
 "cells": [
  {
   "cell_type": "code",
   "execution_count": 2,
   "metadata": {},
   "outputs": [],
   "source": [
    "import os\n",
    "import sys\n",
    "from datetime import datetime\n",
    "\n",
    "import gym\n",
    "from gym import wrappers\n",
    "\n",
    "import numpy as np\n",
    "import matplotlib\n",
    "import matplotlib.pyplot as plt\n",
    "from mpl_toolkits.mplot3d import Axes3D\n",
    "\n",
    "from sklearn.pipeline import FeatureUnion\n",
    "from sklearn.preprocessing import StandardScaler\n",
    "from sklearn.kernel_approximation import RBFSampler\n",
    "from sklearn.linear_model import SGDRegressor"
   ]
  },
  {
   "cell_type": "code",
   "execution_count": 45,
   "metadata": {},
   "outputs": [],
   "source": [
    "class SGDRegressor:\n",
    "    def __init__(self, D, learning_rate):\n",
    "        self.W = np.random.randn(D) / np.sqrt(D)\n",
    "        self.lr = learning_rate\n",
    "        \n",
    "    def partial_fit(self, X, y):\n",
    "        self.W += self.lr * (y - X.dot(self.W)).dot(X)\n",
    "        \n",
    "    def predict(self, X):\n",
    "        return X.dot(self.W)"
   ]
  },
  {
   "cell_type": "code",
   "execution_count": 29,
   "metadata": {},
   "outputs": [],
   "source": [
    "class FeatureTransformer:\n",
    "    def __init__(self, env):\n",
    "        obs_examples = np.random.random((20000, 4))*2-2\n",
    "        scaler = StandardScaler()\n",
    "        scaler.fit(obs_examples)\n",
    "        \n",
    "        featurizer = FeatureUnion([('rbf1', RBFSampler(gamma=0.05, n_components=1000)),\n",
    "                                   ('rbf2', RBFSampler(gamma=0.1, n_components=1000)),\n",
    "                                   ('rbf3', RBFSampler(gamma=0.5, n_components=1000)),\n",
    "                                   ('rbf4', RBFSampler(gamma=1.0, n_components=1000))\n",
    "                                  ])\n",
    "        feature_examples = featurizer.fit_transform(scaler.transform(obs_examples))\n",
    "        \n",
    "        self.dimensions = feature_examples.shape[1]\n",
    "        \n",
    "        self.scaler = scaler\n",
    "        self.featurizer = featurizer\n",
    "        \n",
    "    def transform(self, obs):\n",
    "        scaled = self.scaler.transform(obs)\n",
    "        return self.featurizer.transform(scaled)"
   ]
  },
  {
   "cell_type": "code",
   "execution_count": 46,
   "metadata": {},
   "outputs": [],
   "source": [
    "class Model:\n",
    "    def __init__(self, env, feature_transformer, lr):\n",
    "        self.env = env\n",
    "        self.models = []\n",
    "        self.feature_transformer = feature_transformer\n",
    "        \n",
    "        for i in range(env.action_space.n):\n",
    "            model = SGDRegressor(self.feature_transformer.dimensions, learning_rate=lr)\n",
    "            model.partial_fit(feature_transformer.transform([env.reset()]), [0])\n",
    "            self.models.append(model)\n",
    "            \n",
    "    def predict(self, state):\n",
    "        x = self.feature_transformer.transform(np.atleast_2d(state))\n",
    "        result = np.array([model.predict(x)[0] for model in self.models])\n",
    "        result = result.astype(np.float)\n",
    "        return result\n",
    "    \n",
    "    def update(self, state, action, G):\n",
    "        x = self.feature_transformer.transform(np.atleast_2d(state))\n",
    "        self.models[action].partial_fit(x, [G])\n",
    "        \n",
    "    def sample_action(self, state, eps):\n",
    "        if np.random.random() < eps:\n",
    "            return self.env.action_space.sample()\n",
    "        else:\n",
    "            prediction = self.predict(state)\n",
    "            return np.argmax(prediction)"
   ]
  },
  {
   "cell_type": "code",
   "execution_count": 47,
   "metadata": {},
   "outputs": [],
   "source": [
    "def play_one(model, eps, gamma):\n",
    "    obs = env.reset()\n",
    "    done = False\n",
    "    total_r = 0\n",
    "    iters = 0\n",
    "    \n",
    "    while not done and iters < 2000:\n",
    "        action = model.sample_action(obs, eps)\n",
    "        prev_obs = obs\n",
    "        obs, reward, done, _ = env.step(action)\n",
    "        \n",
    "        if done:\n",
    "            reward = -200\n",
    "        \n",
    "        total_r += reward\n",
    "        \n",
    "        G = reward + gamma * np.max(model.predict(obs))\n",
    "        \n",
    "        model.update(prev_obs, action, G)\n",
    "        \n",
    "        if reward == 1:\n",
    "            total_r += reward\n",
    "        \n",
    "        iters += 1\n",
    "        \n",
    "    return total_r"
   ]
  },
  {
   "cell_type": "code",
   "execution_count": 49,
   "metadata": {},
   "outputs": [],
   "source": [
    "def plot_running_avg(rewards):\n",
    "    N = len(rewards)\n",
    "    running_avg = np.empty(N)\n",
    "    \n",
    "    for t in range(N):\n",
    "        running_avg[t] = rewards[max(0, t-100):t+1].mean()\n",
    "    \n",
    "    plt.plot(running_avg)\n",
    "    plt.title(\"Running Average Score\")\n",
    "    plt.show()"
   ]
  },
  {
   "cell_type": "code",
   "execution_count": 50,
   "metadata": {},
   "outputs": [],
   "source": [
    "env = gym.make('CartPole-v0')\n",
    "feat_transformer = FeatureTransformer(env)\n",
    "model = Model(env, feat_transformer, 0.01)\n",
    "gamma = 0.99"
   ]
  },
  {
   "cell_type": "code",
   "execution_count": 53,
   "metadata": {},
   "outputs": [],
   "source": [
    "N = 1000\n",
    "total_R = np.empty(N)"
   ]
  },
  {
   "cell_type": "code",
   "execution_count": 54,
   "metadata": {},
   "outputs": [
    {
     "name": "stdout",
     "output_type": "stream",
     "text": [
      "Episode: 0 \tTotal Reward: -176.0 \t Epsilon: 1.0\n",
      "Episode: 100 \tTotal Reward: 2.0 \t Epsilon: 0.09950371902099892\n",
      "Epsilon:  0.07071067811865475\n",
      "Episode: 200 \tTotal Reward: 174.0 \t Epsilon: 0.07053456158585983\n",
      "Episode: 300 \tTotal Reward: 198.0 \t Epsilon: 0.0576390417704235\n",
      "Episode: 400 \tTotal Reward: 36.0 \t Epsilon: 0.04993761694389223\n",
      "Episode: 500 \tTotal Reward: 12.0 \t Epsilon: 0.04467670516087703\n",
      "Episode: 600 \tTotal Reward: 72.0 \t Epsilon: 0.04079085082240021\n",
      "Episode: 700 \tTotal Reward: 196.0 \t Epsilon: 0.0377694787300249\n",
      "Episode: 800 \tTotal Reward: 114.0 \t Epsilon: 0.03533326266687867\n",
      "Episode: 900 \tTotal Reward: 198.0 \t Epsilon: 0.03331483023263848\n",
      "Average reward for last 100 episodes:  172.18\n",
      "Total steps:  130610.0\n"
     ]
    },
    {
     "data": {
      "image/png": "[encoded data removed]",
      "text/plain": [
       "<Figure size 432x288 with 1 Axes>"
      ]
     },
     "metadata": {
      "needs_background": "light"
     },
     "output_type": "display_data"
    },
    {
     "data": {
      "image/png": "[encoded data removed]",
      "text/plain": [
       "<Figure size 432x288 with 1 Axes>"
      ]
     },
     "metadata": {
      "needs_background": "light"
     },
     "output_type": "display_data"
    }
   ],
   "source": [
    "for i in range(N):\n",
    "    eps = 1.0 / np.sqrt(i+1)\n",
    "    \n",
    "    if i == 199:\n",
    "        print('Epsilon: ', eps)\n",
    "        \n",
    "    total_r = play_one(model, eps, gamma)\n",
    "    total_R[i] = total_r\n",
    "    \n",
    "    if i % 100 == 0:\n",
    "         print('Episode: {} \\tTotal Reward: {} \\t Epsilon: {}'.format(i,\n",
    "                                                                     total_r,\n",
    "                                                                     eps))\n",
    "\n",
    "print('Average reward for last 100 episodes: ', total_R[-100:].mean())\n",
    "print('Total steps: ', total_R.sum())\n",
    "\n",
    "plt.plot(total_R)\n",
    "plt.title('Rewards')\n",
    "plt.show()\n",
    "\n",
    "plot_running_avg(total_R)"
   ]
  },
  {
   "cell_type": "code",
   "execution_count": null,
   "metadata": {},
   "outputs": [],
   "source": []
  }
 ],
 "metadata": {
  "kernelspec": {
   "display_name": "Python 3",
   "language": "python",
   "name": "python3"
  },
  "language_info": {
   "codemirror_mode": {
    "name": "ipython",
    "version": 3
   },
   "file_extension": ".py",
   "mimetype": "text/x-python",
   "name": "python",
   "nbconvert_exporter": "python",
   "pygments_lexer": "ipython3",
   "version": "3.7.0"
  }
 },
 "nbformat": 4,
 "nbformat_minor": 2
}
