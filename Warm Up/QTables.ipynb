{
 "cells": [
  {
   "cell_type": "code",
   "execution_count": 8,
   "metadata": {},
   "outputs": [],
   "source": [
    "import os\n",
    "import sys\n",
    "from datetime import datetime\n",
    "\n",
    "import gym\n",
    "from gym import wrappers\n",
    "import numpy as np\n",
    "import pandas as pd\n",
    "import matplotlib.pyplot as plt"
   ]
  },
  {
   "cell_type": "code",
   "execution_count": 2,
   "metadata": {},
   "outputs": [],
   "source": [
    "env = gym.make('CartPole-v0')"
   ]
  },
  {
   "cell_type": "code",
   "execution_count": 7,
   "metadata": {},
   "outputs": [
    {
     "name": "stdout",
     "output_type": "stream",
     "text": [
      "Action Space:  Discrete(2)\n",
      "Observation Space:  Box(4,)\n",
      "Obs Space (high):  [4.8000002e+00 3.4028235e+38 4.1887903e-01 3.4028235e+38]\n",
      "Obs Space (low):  [-4.8000002e+00 -3.4028235e+38 -4.1887903e-01 -3.4028235e+38]\n"
     ]
    }
   ],
   "source": [
    "print('Action Space: ', env.action_space)\n",
    "print('Observation Space: ', env.observation_space)\n",
    "print('Obs Space (high): ', env.observation_space.high)\n",
    "print('Obs Space (low): ', env.observation_space.low)"
   ]
  },
  {
   "cell_type": "code",
   "execution_count": 9,
   "metadata": {},
   "outputs": [],
   "source": [
    "def build_state(features):\n",
    "    return (''.join(map(lambda feature: str(int(feature)), features)))"
   ]
  },
  {
   "cell_type": "code",
   "execution_count": 10,
   "metadata": {},
   "outputs": [],
   "source": [
    "def to_bin(value, bins):\n",
    "    return np.digitize(x=[value], bins=bins)[0]"
   ]
  },
  {
   "cell_type": "code",
   "execution_count": 20,
   "metadata": {},
   "outputs": [],
   "source": [
    "class FeatureTransformer:\n",
    "    def __init__(self):\n",
    "        self.cart_position_bins = np.linspace(-4.8, 4.8, 9)\n",
    "        self.cart_velocity_bins = np.linspace(-2, 2, 9)\n",
    "        self.pole_angle_bins = np.linspace(-4.2, 4.2, 9)\n",
    "        self.pole_velocity_bins = np.linspace(-4, 4, 9)\n",
    "        \n",
    "    def transform(self, obs):\n",
    "        cart_pos, cart_vel, pole_angle, pole_vel = obs\n",
    "        \n",
    "        return build_state([to_bin(cart_pos, self.cart_position_bins),\n",
    "                            to_bin(cart_vel, self.cart_velocity_bins),\n",
    "                            to_bin(pole_angle, self.pole_angle_bins),\n",
    "                            to_bin(pole_vel, self.pole_velocity_bins)])"
   ]
  },
  {
   "cell_type": "code",
   "execution_count": 45,
   "metadata": {},
   "outputs": [],
   "source": [
    "class Model:\n",
    "    def __init__(self, env, feature_transformer):\n",
    "        self.env = env\n",
    "        self.feature_transformer = feature_transformer\n",
    "        \n",
    "        num_states = 10**env.observation_space.shape[0]\n",
    "        num_actions = env.action_space.n\n",
    "        self.Q = np.random.uniform(low=-1, high=1, size=(num_states, num_actions))\n",
    "        \n",
    "    def predict(self, state):\n",
    "        x = self.feature_transformer.transform(state)\n",
    "        return self.Q[int(x)]\n",
    "    \n",
    "    def update(self, state, action, G):\n",
    "        x = self.feature_transformer.transform(state)\n",
    "        self.Q[int(x),action] += 10e-3*(G - self.Q[int(x), action])\n",
    "        \n",
    "    def sample_action(self, state, eps):\n",
    "        if np.random.random() < eps:\n",
    "            return self.env.action_space.sample()\n",
    "        else:\n",
    "            prediction = self.predict(state)\n",
    "            return np.argmax(prediction)"
   ]
  },
  {
   "cell_type": "code",
   "execution_count": 46,
   "metadata": {},
   "outputs": [],
   "source": [
    "def play_one(model, eps, gamma):\n",
    "    obs = env.reset()\n",
    "    done = False\n",
    "    total_R = 0\n",
    "    iters = 0\n",
    "    \n",
    "    while not done and iters < 2000:\n",
    "        action = model.sample_action(obs, eps)\n",
    "        prev_obs = obs\n",
    "        obs, reward, done, _ = env.step(action)\n",
    "        \n",
    "        total_R += reward\n",
    "        \n",
    "        if done and iters < 199:\n",
    "            reward = -300\n",
    "            \n",
    "        G = reward + gamma * np.max(model.predict(obs))\n",
    "        \n",
    "        model.update(prev_obs, action, G)\n",
    "        \n",
    "        iters += 1\n",
    "    \n",
    "    return total_R"
   ]
  },
  {
   "cell_type": "code",
   "execution_count": 47,
   "metadata": {},
   "outputs": [],
   "source": [
    "def plot_running_avg(rewards):\n",
    "    N = len(rewards)\n",
    "    running_avg = np.empty(N)\n",
    "    \n",
    "    for t in range(N):\n",
    "        running_avg[t] = rewards[max(0, t-100):t+1].mean()\n",
    "    \n",
    "    plt.plot(running_avg)\n",
    "    plt.title(\"Running Average Score\")\n",
    "    plt.show()"
   ]
  },
  {
   "cell_type": "code",
   "execution_count": 48,
   "metadata": {},
   "outputs": [],
   "source": [
    "feat_transformer = FeatureTransformer()\n",
    "model = Model(env, feat_transformer)\n",
    "gamma = 0.99"
   ]
  },
  {
   "cell_type": "code",
   "execution_count": 56,
   "metadata": {},
   "outputs": [],
   "source": [
    "N = 5000\n",
    "total_R = np.empty(N)"
   ]
  },
  {
   "cell_type": "code",
   "execution_count": 57,
   "metadata": {
    "scrolled": false
   },
   "outputs": [
    {
     "name": "stdout",
     "output_type": "stream",
     "text": [
      "Episode: 0 \tTotal Reward: 12.0 \t Epsilon: 1.0\n",
      "Episode: 100 \tTotal Reward: 200.0 \t Epsilon: 0.09950371902099892\n",
      "Episode: 200 \tTotal Reward: 200.0 \t Epsilon: 0.07053456158585983\n",
      "Episode: 300 \tTotal Reward: 200.0 \t Epsilon: 0.0576390417704235\n",
      "Episode: 400 \tTotal Reward: 200.0 \t Epsilon: 0.04993761694389223\n",
      "Episode: 500 \tTotal Reward: 200.0 \t Epsilon: 0.04467670516087703\n",
      "Episode: 600 \tTotal Reward: 200.0 \t Epsilon: 0.04079085082240021\n",
      "Episode: 700 \tTotal Reward: 200.0 \t Epsilon: 0.0377694787300249\n",
      "Episode: 800 \tTotal Reward: 200.0 \t Epsilon: 0.03533326266687867\n",
      "Episode: 900 \tTotal Reward: 65.0 \t Epsilon: 0.03331483023263848\n",
      "Episode: 1000 \tTotal Reward: 138.0 \t Epsilon: 0.0316069770620507\n",
      "Episode: 1100 \tTotal Reward: 200.0 \t Epsilon: 0.03013743873394561\n",
      "Episode: 1200 \tTotal Reward: 200.0 \t Epsilon: 0.028855492841238062\n",
      "Episode: 1300 \tTotal Reward: 50.0 \t Epsilon: 0.027724348650071385\n",
      "Episode: 1400 \tTotal Reward: 175.0 \t Epsilon: 0.02671658425726324\n",
      "Episode: 1500 \tTotal Reward: 200.0 \t Epsilon: 0.025811286645983367\n",
      "Episode: 1600 \tTotal Reward: 200.0 \t Epsilon: 0.02499219116020307\n",
      "Episode: 1700 \tTotal Reward: 200.0 \t Epsilon: 0.024246432248443597\n",
      "Episode: 1800 \tTotal Reward: 200.0 \t Epsilon: 0.02356368148131365\n",
      "Episode: 1900 \tTotal Reward: 200.0 \t Epsilon: 0.02293553851298437\n",
      "Episode: 2000 \tTotal Reward: 200.0 \t Epsilon: 0.022355091700494795\n",
      "Episode: 2100 \tTotal Reward: 200.0 \t Epsilon: 0.021816595214404266\n",
      "Episode: 2200 \tTotal Reward: 199.0 \t Epsilon: 0.021315227815974374\n",
      "Episode: 2300 \tTotal Reward: 200.0 \t Epsilon: 0.02084690996125416\n",
      "Episode: 2400 \tTotal Reward: 200.0 \t Epsilon: 0.02040816326530612\n",
      "Episode: 2500 \tTotal Reward: 200.0 \t Epsilon: 0.01999600119960014\n",
      "Episode: 2600 \tTotal Reward: 200.0 \t Epsilon: 0.0196078431372549\n",
      "Episode: 2700 \tTotal Reward: 200.0 \t Epsilon: 0.019241446072101123\n",
      "Episode: 2800 \tTotal Reward: 200.0 \t Epsilon: 0.018894849871330582\n",
      "Episode: 2900 \tTotal Reward: 200.0 \t Epsilon: 0.018566333001716968\n",
      "Episode: 3000 \tTotal Reward: 177.0 \t Epsilon: 0.01825437644092281\n",
      "Episode: 3100 \tTotal Reward: 200.0 \t Epsilon: 0.017957634043632188\n",
      "Episode: 3200 \tTotal Reward: 200.0 \t Epsilon: 0.01767490804100673\n",
      "Episode: 3300 \tTotal Reward: 200.0 \t Epsilon: 0.01740512865461766\n",
      "Episode: 3400 \tTotal Reward: 200.0 \t Epsilon: 0.017147337032429676\n",
      "Episode: 3500 \tTotal Reward: 200.0 \t Epsilon: 0.01690067088544646\n",
      "Episode: 3600 \tTotal Reward: 200.0 \t Epsilon: 0.016664352333993333\n",
      "Episode: 3700 \tTotal Reward: 200.0 \t Epsilon: 0.016437677572823703\n",
      "Episode: 3800 \tTotal Reward: 200.0 \t Epsilon: 0.01622000804188198\n",
      "Episode: 3900 \tTotal Reward: 200.0 \t Epsilon: 0.01601076285016887\n",
      "Episode: 4000 \tTotal Reward: 200.0 \t Epsilon: 0.015809412247806517\n",
      "Episode: 4100 \tTotal Reward: 200.0 \t Epsilon: 0.015615471979112765\n",
      "Episode: 4200 \tTotal Reward: 200.0 \t Epsilon: 0.015428498379527544\n",
      "Episode: 4300 \tTotal Reward: 200.0 \t Epsilon: 0.015248084103296531\n",
      "Episode: 4400 \tTotal Reward: 200.0 \t Epsilon: 0.015073854388204487\n",
      "Episode: 4500 \tTotal Reward: 200.0 \t Epsilon: 0.014905463779355262\n",
      "Episode: 4600 \tTotal Reward: 200.0 \t Epsilon: 0.014742593246782542\n",
      "Episode: 4700 \tTotal Reward: 200.0 \t Epsilon: 0.014584947642137372\n",
      "Episode: 4800 \tTotal Reward: 200.0 \t Epsilon: 0.014432253448298278\n",
      "Episode: 4900 \tTotal Reward: 200.0 \t Epsilon: 0.014284256782850143\n",
      "Average reward for last 100 episodes:  195.51\n",
      "Total steps:  926873.0\n"
     ]
    },
    {
     "data": {
      "image/png": "[encoded data removed]",
      "text/plain": [
       "<Figure size 432x288 with 1 Axes>"
      ]
     },
     "metadata": {
      "needs_background": "light"
     },
     "output_type": "display_data"
    },
    {
     "data": {
      "image/png": "[encoded data removed]",
      "text/plain": [
       "<Figure size 432x288 with 1 Axes>"
      ]
     },
     "metadata": {
      "needs_background": "light"
     },
     "output_type": "display_data"
    }
   ],
   "source": [
    "for i in range(N):\n",
    "    eps = 1.0/np.sqrt(i+1)\n",
    "    total_r = play_one(model, eps, gamma)\n",
    "    total_R[i] = total_r\n",
    "    \n",
    "    if i % 100 == 0:\n",
    "        print('Episode: {} \\tTotal Reward: {} \\t Epsilon: {}'.format(i,\n",
    "                                                                     total_r,\n",
    "                                                                     eps))\n",
    "\n",
    "print('Average reward for last 100 episodes: ', total_R[-100:].mean())\n",
    "print('Total steps: ', total_R.sum())\n",
    "\n",
    "plt.plot(total_R)\n",
    "plt.title('Rewards')\n",
    "plt.show()\n",
    "\n",
    "plot_running_avg(total_R)"
   ]
  }
 ],
 "metadata": {
  "kernelspec": {
   "display_name": "Python 3",
   "language": "python",
   "name": "python3"
  },
  "language_info": {
   "codemirror_mode": {
    "name": "ipython",
    "version": 3
   },
   "file_extension": ".py",
   "mimetype": "text/x-python",
   "name": "python",
   "nbconvert_exporter": "python",
   "pygments_lexer": "ipython3",
   "version": "3.7.0"
  }
 },
 "nbformat": 4,
 "nbformat_minor": 2
}
