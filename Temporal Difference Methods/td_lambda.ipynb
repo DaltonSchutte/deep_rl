{
 "cells": [
  {
   "cell_type": "code",
   "execution_count": 1,
   "metadata": {},
   "outputs": [],
   "source": [
    "import gym\n",
    "import numpy as np\n",
    "import matplotlib.pyplot as plt\n",
    "\n",
    "from utils import FeatureTransformer, plot_running_avg"
   ]
  },
  {
   "cell_type": "code",
   "execution_count": 2,
   "metadata": {},
   "outputs": [],
   "source": [
    "class BaseModel:\n",
    "    def __init__(self, D, learning_rate=0.01):\n",
    "        self.W = np.random.randn(D) / np.sqrt(D)\n",
    "        self.lr = learning_rate\n",
    "        \n",
    "    def partial_fit(self, X, y, eligibility):\n",
    "        self.W += self.lr*(y - X.dot(self.W))*eligibility\n",
    "        \n",
    "    def predict(self, X):\n",
    "        X = np.array(X)\n",
    "        return X.dot(self.W)"
   ]
  },
  {
   "cell_type": "code",
   "execution_count": 3,
   "metadata": {},
   "outputs": [],
   "source": [
    "class Model:\n",
    "    def __init__(self, env, feature_transformer, learning_rate):\n",
    "        self.env = env\n",
    "        self.models = []\n",
    "        self.feature_transformer = feature_transformer\n",
    "        self.lr = learning_rate\n",
    "        \n",
    "        sample_feature = feature_transformer.transform([env.reset()])\n",
    "        D = sample_feature.shape[1]\n",
    "        \n",
    "        for i in range(env.action_space.n):\n",
    "            model = BaseModel(D, self.lr)\n",
    "            self.models.append(model)\n",
    "            \n",
    "        self.eligibilities = np.zeros((env.action_space.n, D))\n",
    "            \n",
    "    def reset(self):\n",
    "        self.eligibilities = np.zeros_like(self.eligibilities)\n",
    "            \n",
    "    def predict(self, state):\n",
    "        X = self.feature_transformer.transform([state])\n",
    "        result = np.stack([model.predict(X) for model in self.models]).T\n",
    "        return result\n",
    "    \n",
    "    def update(self, state, action, G, gamma, lambda_):\n",
    "        X = self.feature_transformer.transform([state])\n",
    "        \"\"\"print(X.shape)\n",
    "        print(X)\n",
    "        print('SPACE')\n",
    "        print(X[0])\n",
    "        print('SPACE SPACE')\n",
    "        print(self.eligibilities.shape)\"\"\"\n",
    "        self.eligibilities *= gamma * lambda_\n",
    "        self.eligibilities[action] += X[0]\n",
    "        self.models[action].partial_fit(X[0], G, self.eligibilities[action])\n",
    "        \n",
    "    def sample_action(self, state, epsilon):\n",
    "        if np.random.random() < epsilon:\n",
    "            return self.env.action_space.sample()\n",
    "        else:\n",
    "            return np.argmax(self.predict(state))"
   ]
  },
  {
   "cell_type": "code",
   "execution_count": 4,
   "metadata": {},
   "outputs": [],
   "source": [
    "def play_one(model, env, epsilon, gamma, lambda_):\n",
    "    obs = env.reset()\n",
    "    done = False\n",
    "    total_r = 0\n",
    "    iters = 0\n",
    "    #model.reset()\n",
    "    \n",
    "    while not done and iters < 10000:\n",
    "        action = model.sample_action(obs, epsilon)\n",
    "        prev_obs = obs\n",
    "        obs, reward, done, _ = env.step(action)\n",
    "        \n",
    "        if done:\n",
    "            reward = -200\n",
    "            \n",
    "        total_r += reward\n",
    "        \n",
    "        G = reward + gamma * np.max(model.predict(obs)[0])\n",
    "        \n",
    "        model.update(prev_obs, action, G, gamma, lambda_)\n",
    "        \n",
    "        if reward == 1:\n",
    "            total_r += reward\n",
    "            \n",
    "        iters += 1\n",
    "    \n",
    "    return total_r, iters"
   ]
  },
  {
   "cell_type": "code",
   "execution_count": 5,
   "metadata": {},
   "outputs": [],
   "source": [
    "env = gym.make('CartPole-v0')\n",
    "learning_rate = 0.1\n",
    "gamma = 0.999\n",
    "lambda_ = 0.7\n",
    "N = 2000"
   ]
  },
  {
   "cell_type": "code",
   "execution_count": 6,
   "metadata": {},
   "outputs": [
    {
     "name": "stdout",
     "output_type": "stream",
     "text": [
      "Episode: 0 \tTotal Reward: -176.0 \t Epsilon: 1.0\n",
      "Episode: 100 \tAverage Reward of Prev 100 Episodes: -129.08 \t Epsilon: 0.01\n",
      "Episode: 200 \tAverage Reward of Prev 100 Episodes: 46.4 \t Epsilon: 0.01\n",
      "Episode: 300 \tAverage Reward of Prev 100 Episodes: 95.52 \t Epsilon: 0.01\n",
      "Episode: 400 \tAverage Reward of Prev 100 Episodes: 129.24 \t Epsilon: 0.01\n",
      "Episode: 500 \tAverage Reward of Prev 100 Episodes: 153.14 \t Epsilon: 0.01\n",
      "Episode: 600 \tAverage Reward of Prev 100 Episodes: 152.38 \t Epsilon: 0.01\n",
      "Episode: 700 \tAverage Reward of Prev 100 Episodes: 150.64 \t Epsilon: 0.01\n",
      "Episode: 800 \tAverage Reward of Prev 100 Episodes: 183.16 \t Epsilon: 0.01\n",
      "Episode: 900 \tAverage Reward of Prev 100 Episodes: 198.0 \t Epsilon: 0.01\n",
      "Episode: 1000 \tAverage Reward of Prev 100 Episodes: 196.14 \t Epsilon: 0.01\n",
      "Episode: 1100 \tAverage Reward of Prev 100 Episodes: 198.0 \t Epsilon: 0.01\n",
      "Episode: 1200 \tAverage Reward of Prev 100 Episodes: 196.38 \t Epsilon: 0.01\n",
      "Episode: 1300 \tAverage Reward of Prev 100 Episodes: 197.82 \t Epsilon: 0.01\n",
      "Episode: 1400 \tAverage Reward of Prev 100 Episodes: 197.18 \t Epsilon: 0.01\n",
      "Episode: 1500 \tAverage Reward of Prev 100 Episodes: 197.84 \t Epsilon: 0.01\n",
      "Episode: 1600 \tAverage Reward of Prev 100 Episodes: 197.08 \t Epsilon: 0.01\n",
      "Episode: 1700 \tAverage Reward of Prev 100 Episodes: 196.84 \t Epsilon: 0.01\n",
      "Episode: 1800 \tAverage Reward of Prev 100 Episodes: 198.0 \t Epsilon: 0.01\n",
      "Episode: 1900 \tAverage Reward of Prev 100 Episodes: 198.0 \t Epsilon: 0.01\n",
      "Average reward for last 100 episodes:  193.32\n",
      "Total steps:  359300\n"
     ]
    },
    {
     "data": {
      "image/png": "[encoded data removed]",
      "text/plain": [
       "<Figure size 432x288 with 1 Axes>"
      ]
     },
     "metadata": {
      "needs_background": "light"
     },
     "output_type": "display_data"
    },
    {
     "data": {
      "image/png": "[encoded data removed]",
      "text/plain": [
       "<Figure size 432x288 with 1 Axes>"
      ]
     },
     "metadata": {
      "needs_background": "light"
     },
     "output_type": "display_data"
    }
   ],
   "source": [
    "feat_transformer = FeatureTransformer(env)\n",
    "model = Model(env, feat_transformer, learning_rate)\n",
    "\n",
    "total_R = np.empty(N)\n",
    "total_iters = 0\n",
    "\n",
    "for n in range(N):\n",
    "    eps = 0.01 + 0.99*np.exp(-0.5*n)\n",
    "    #eps = 1.0 / np.sqrt(n+1)\n",
    "    total_r, iters = play_one(model, env, eps, gamma, lambda_)\n",
    "    total_R[n] = total_r\n",
    "    total_iters += iters\n",
    "    \n",
    "    if n % 100 == 0:\n",
    "        if n != 0:\n",
    "            print('Episode: {} \\tAverage Reward of Prev 100 Episodes: {} \\t Epsilon: {}'.format(n,\n",
    "                                                                                                total_R[n-100:n].mean(),\n",
    "                                                                                                eps))\n",
    "        else:\n",
    "            print('Episode: {} \\tTotal Reward: {} \\t Epsilon: {}'.format(n,\n",
    "                                                                         total_r,\n",
    "                                                                         eps))\n",
    "\n",
    "print('Average reward for last 100 episodes: ', total_R[-100:].mean())\n",
    "print('Total steps: ', total_iters)\n",
    "\n",
    "plt.plot(total_R)\n",
    "plt.title('Rewards')\n",
    "plt.show()\n",
    "\n",
    "plot_running_avg(total_R)"
   ]
  },
  {
   "cell_type": "code",
   "execution_count": null,
   "metadata": {},
   "outputs": [],
   "source": []
  }
 ],
 "metadata": {
  "kernelspec": {
   "display_name": "Python 3",
   "language": "python",
   "name": "python3"
  },
  "language_info": {
   "codemirror_mode": {
    "name": "ipython",
    "version": 3
   },
   "file_extension": ".py",
   "mimetype": "text/x-python",
   "name": "python",
   "nbconvert_exporter": "python",
   "pygments_lexer": "ipython3",
   "version": "3.7.0"
  }
 },
 "nbformat": 4,
 "nbformat_minor": 2
}
